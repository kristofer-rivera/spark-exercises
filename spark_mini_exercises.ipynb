{
 "cells": [
  {
   "cell_type": "code",
   "execution_count": 1,
   "id": "a31c0fdd-818a-46ce-93c1-ae833962b906",
   "metadata": {},
   "outputs": [],
   "source": [
    "import pandas as pd\n",
    "import numpy as np\n",
    "import pyspark\n",
    "import pydataset\n",
    "from pyspark.sql.functions import sum, mean, concat, lit, regexp_extract, regexp_replace, when\n",
    "from vega_datasets import data\n",
    "from pyspark.sql.functions import month, year, quarter\n",
    "from pyspark.sql.functions import *\n",
    "\n",
    "np.random.seed(13)\n",
    "\n",
    "pandas_dataframe = pd.DataFrame(\n",
    "    {\n",
    "        \"n\": np.random.randn(20),\n",
    "        \"group\": np.random.choice(list(\"xyz\"), 20),\n",
    "        \"abool\": np.random.choice([True, False], 20),\n",
    "    }\n",
    ")"
   ]
  },
  {
   "cell_type": "code",
   "execution_count": 2,
   "id": "e91fa4a2-494c-438e-b638-21a37d00537a",
   "metadata": {},
   "outputs": [
    {
     "name": "stderr",
     "output_type": "stream",
     "text": [
      "WARNING: An illegal reflective access operation has occurred\n",
      "WARNING: Illegal reflective access by org.apache.spark.unsafe.Platform (file:/opt/homebrew/anaconda3/lib/python3.9/site-packages/pyspark/jars/spark-unsafe_2.12-3.2.1.jar) to constructor java.nio.DirectByteBuffer(long,int)\n",
      "WARNING: Please consider reporting this to the maintainers of org.apache.spark.unsafe.Platform\n",
      "WARNING: Use --illegal-access=warn to enable warnings of further illegal reflective access operations\n",
      "WARNING: All illegal access operations will be denied in a future release\n",
      "Using Spark's default log4j profile: org/apache/spark/log4j-defaults.properties\n",
      "Setting default log level to \"WARN\".\n",
      "To adjust logging level use sc.setLogLevel(newLevel). For SparkR, use setLogLevel(newLevel).\n",
      "22/05/23 10:44:02 WARN NativeCodeLoader: Unable to load native-hadoop library for your platform... using builtin-java classes where applicable\n",
      "22/05/23 10:44:03 WARN Utils: Service 'SparkUI' could not bind on port 4040. Attempting port 4041.\n"
     ]
    }
   ],
   "source": [
    "spark = pyspark.sql.SparkSession.builder.getOrCreate()"
   ]
  },
  {
   "cell_type": "markdown",
   "id": "09132a10-0598-4db6-92f3-58c5731412ba",
   "metadata": {},
   "source": [
    "1. Spark Dataframe Basics\n",
    "\n",
    "    1. Use the starter code above to create a pandas dataframe.\n",
    "    1. Convert the pandas dataframe to a spark dataframe. From this point\n",
    "       forward, do all of your work with the spark dataframe, not the pandas\n",
    "       dataframe.\n",
    "    1. Show the first 3 rows of the dataframe.\n",
    "    1. Show the first 7 rows of the dataframe.\n",
    "    1. What is the difference between `.show` and `.head`?\n",
    "    1. View a summary of the data using `.describe`.\n",
    "    1. Use `.select` to create a new dataframe with just the `n` and `abool`\n",
    "       columns. View the first 5 rows of this dataframe.\n",
    "    1. Use `.select` to create a new dataframe with just the `group` and `abool`\n",
    "       columns. View the first 5 rows of this dataframe.\n",
    "    1. Use `.select` to create a new dataframe with the `group` column and the\n",
    "       `abool` column renamed to `a_boolean_value`. Show the first 3 rows of\n",
    "       this dataframe.\n",
    "    1. Use `.select` to create a new dataframe with the `group` column and the\n",
    "       `n` column renamed to `a_numeric_value`. Show the first 6 rows of this\n",
    "       dataframe."
   ]
  },
  {
   "cell_type": "code",
   "execution_count": 3,
   "id": "1ae136c6-ae0d-46d9-a292-d0a98fcee436",
   "metadata": {},
   "outputs": [
    {
     "data": {
      "text/plain": [
       "DataFrame[n: double, group: string, abool: boolean]"
      ]
     },
     "execution_count": 3,
     "metadata": {},
     "output_type": "execute_result"
    }
   ],
   "source": [
    "# B. \n",
    "df = spark.createDataFrame(pandas_dataframe)\n",
    "df"
   ]
  },
  {
   "cell_type": "code",
   "execution_count": 4,
   "id": "af201f65-f81a-4afc-9f29-e69523d80f33",
   "metadata": {},
   "outputs": [
    {
     "name": "stderr",
     "output_type": "stream",
     "text": [
      "                                                                                \r"
     ]
    },
    {
     "name": "stdout",
     "output_type": "stream",
     "text": [
      "+--------------------+-----+-----+\n",
      "|                   n|group|abool|\n",
      "+--------------------+-----+-----+\n",
      "|  -0.712390662050588|    z|false|\n",
      "|   0.753766378659703|    x|false|\n",
      "|-0.04450307833805...|    z|false|\n",
      "+--------------------+-----+-----+\n",
      "only showing top 3 rows\n",
      "\n"
     ]
    }
   ],
   "source": [
    "# C. \n",
    "df.show(3)"
   ]
  },
  {
   "cell_type": "code",
   "execution_count": 5,
   "id": "315b2aef-8e14-47ac-b8f0-468d2081aaa5",
   "metadata": {},
   "outputs": [
    {
     "name": "stdout",
     "output_type": "stream",
     "text": [
      "+--------------------+-----+-----+\n",
      "|                   n|group|abool|\n",
      "+--------------------+-----+-----+\n",
      "|  -0.712390662050588|    z|false|\n",
      "|   0.753766378659703|    x|false|\n",
      "|-0.04450307833805...|    z|false|\n",
      "| 0.45181233874578974|    y|false|\n",
      "|  1.3451017084510097|    z|false|\n",
      "|  0.5323378882945463|    y|false|\n",
      "|  1.3501878997225267|    z|false|\n",
      "+--------------------+-----+-----+\n",
      "only showing top 7 rows\n",
      "\n"
     ]
    }
   ],
   "source": [
    "# D. \n",
    "df.show(7)"
   ]
  },
  {
   "cell_type": "code",
   "execution_count": 6,
   "id": "ee9995d9-bb0e-4289-9a99-a581078846f8",
   "metadata": {},
   "outputs": [
    {
     "data": {
      "text/plain": [
       "Row(n=-0.712390662050588, group='z', abool=False)"
      ]
     },
     "execution_count": 6,
     "metadata": {},
     "output_type": "execute_result"
    }
   ],
   "source": [
    "# E. \n",
    "df.head()"
   ]
  },
  {
   "cell_type": "code",
   "execution_count": 7,
   "id": "e5ad457d-d4cb-46f9-9887-d72b16d440ab",
   "metadata": {},
   "outputs": [
    {
     "name": "stdout",
     "output_type": "stream",
     "text": [
      "+--------------------+-----+-----+\n",
      "|                   n|group|abool|\n",
      "+--------------------+-----+-----+\n",
      "|  -0.712390662050588|    z|false|\n",
      "|   0.753766378659703|    x|false|\n",
      "|-0.04450307833805...|    z|false|\n",
      "| 0.45181233874578974|    y|false|\n",
      "|  1.3451017084510097|    z|false|\n",
      "|  0.5323378882945463|    y|false|\n",
      "|  1.3501878997225267|    z|false|\n",
      "|  0.8612113741693206|    x|false|\n",
      "|  1.4786857374358966|    z| true|\n",
      "| -1.0453771305385342|    y| true|\n",
      "| -0.7889890249515489|    x|false|\n",
      "|  -1.261605945319069|    y|false|\n",
      "|  0.5628467852810314|    y| true|\n",
      "|-0.24332625188556253|    y| true|\n",
      "|  0.9137407048596775|    y|false|\n",
      "| 0.31735092273633597|    x|false|\n",
      "| 0.12730328020698067|    z|false|\n",
      "|  2.1503829673811126|    y| true|\n",
      "|  0.6062886568962988|    x|false|\n",
      "|-0.02677164998644...|    x| true|\n",
      "+--------------------+-----+-----+\n",
      "\n"
     ]
    }
   ],
   "source": [
    "df.show()"
   ]
  },
  {
   "cell_type": "code",
   "execution_count": 8,
   "id": "470f439b-7a23-4194-b27e-1c6a97276567",
   "metadata": {},
   "outputs": [
    {
     "name": "stderr",
     "output_type": "stream",
     "text": [
      "[Stage 8:>                                                          (0 + 8) / 8]\r"
     ]
    },
    {
     "name": "stdout",
     "output_type": "stream",
     "text": [
      "+-------+------------------+-----+\n",
      "|summary|                 n|group|\n",
      "+-------+------------------+-----+\n",
      "|  count|                20|   20|\n",
      "|   mean|0.3664026449885217| null|\n",
      "| stddev|0.8905322898155363| null|\n",
      "|    min|-1.261605945319069|    x|\n",
      "|    max|2.1503829673811126|    z|\n",
      "+-------+------------------+-----+\n",
      "\n"
     ]
    },
    {
     "name": "stderr",
     "output_type": "stream",
     "text": [
      "                                                                                \r"
     ]
    }
   ],
   "source": [
    "# F.\n",
    "df.describe().show()"
   ]
  },
  {
   "cell_type": "code",
   "execution_count": 9,
   "id": "98a1ae56-86fa-4c8f-8eb8-fee072925937",
   "metadata": {},
   "outputs": [
    {
     "name": "stdout",
     "output_type": "stream",
     "text": [
      "+--------------------+-----+\n",
      "|                   n|abool|\n",
      "+--------------------+-----+\n",
      "|  -0.712390662050588|false|\n",
      "|   0.753766378659703|false|\n",
      "|-0.04450307833805...|false|\n",
      "| 0.45181233874578974|false|\n",
      "|  1.3451017084510097|false|\n",
      "+--------------------+-----+\n",
      "only showing top 5 rows\n",
      "\n"
     ]
    }
   ],
   "source": [
    "# G.\n",
    "df.select('n', 'abool').show(5)"
   ]
  },
  {
   "cell_type": "code",
   "execution_count": 10,
   "id": "a9695fc8-6184-4e44-85a8-369c880df573",
   "metadata": {},
   "outputs": [
    {
     "name": "stdout",
     "output_type": "stream",
     "text": [
      "+-----+-----+\n",
      "|group|abool|\n",
      "+-----+-----+\n",
      "|    z|false|\n",
      "|    x|false|\n",
      "|    z|false|\n",
      "|    y|false|\n",
      "|    z|false|\n",
      "+-----+-----+\n",
      "only showing top 5 rows\n",
      "\n"
     ]
    }
   ],
   "source": [
    "# H. \n",
    "df.select('group', 'abool').show(5)"
   ]
  },
  {
   "cell_type": "code",
   "execution_count": 11,
   "id": "5c45e9fd-9ce0-4a9c-9b24-0fc25a9ff191",
   "metadata": {},
   "outputs": [
    {
     "name": "stdout",
     "output_type": "stream",
     "text": [
      "+-----+---------------+\n",
      "|group|a_boolean_value|\n",
      "+-----+---------------+\n",
      "|    z|          false|\n",
      "|    x|          false|\n",
      "|    z|          false|\n",
      "+-----+---------------+\n",
      "only showing top 3 rows\n",
      "\n"
     ]
    }
   ],
   "source": [
    "# I. \n",
    "df.select('group', df.abool.alias('a_boolean_value')).show(3)"
   ]
  },
  {
   "cell_type": "code",
   "execution_count": 12,
   "id": "bec60547-3e06-479c-bd65-5659f2e2b6f1",
   "metadata": {},
   "outputs": [
    {
     "name": "stdout",
     "output_type": "stream",
     "text": [
      "+-----+--------------------+\n",
      "|group|     a_numeric_value|\n",
      "+-----+--------------------+\n",
      "|    z|  -0.712390662050588|\n",
      "|    x|   0.753766378659703|\n",
      "|    z|-0.04450307833805...|\n",
      "|    y| 0.45181233874578974|\n",
      "|    z|  1.3451017084510097|\n",
      "|    y|  0.5323378882945463|\n",
      "+-----+--------------------+\n",
      "only showing top 6 rows\n",
      "\n"
     ]
    }
   ],
   "source": [
    "# J. \n",
    "df.select('group', df.n.alias('a_numeric_value')).show(6)"
   ]
  },
  {
   "cell_type": "markdown",
   "id": "9e4e3934-f38d-4cd0-ae8d-d05e95a2601c",
   "metadata": {},
   "source": [
    "2. Column Manipulation\n",
    "\n",
    "    1. Use the starter code above to re-create a spark dataframe. Store the\n",
    "       spark dataframe in a varaible named `df`\n",
    "\n",
    "    1. Use `.select` to add 4 to the `n` column. Show the results.\n",
    "\n",
    "    1. Subtract 5 from the `n` column and view the results.\n",
    "\n",
    "    1. Multiply the `n` column by 2. View the results along with the original\n",
    "       numbers.\n",
    "\n",
    "    1. Add a new column named `n2` that is the `n` value multiplied by -1. Show\n",
    "       the first 4 rows of your dataframe. You should see the original `n` value\n",
    "       as well as `n2`.\n",
    "\n",
    "    1. Add a new column named `n3` that is the n value squared. Show the first 5\n",
    "       rows of your dataframe. You should see both `n`, `n2`, and `n3`.\n",
    "\n",
    "    1. What happens when you run the code below?\n",
    "\n",
    "        ```python\n",
    "        df.group + df.abool\n",
    "        ```\n",
    "\n",
    "    1. What happens when you run the code below? What is the difference between\n",
    "       this and the previous code sample?\n",
    "\n",
    "        ```python\n",
    "        df.select(df.group + df.abool)\n",
    "        ```\n",
    "\n",
    "    1. Try adding various other columns together. What are the results of\n",
    "       combining the different data types?\n"
   ]
  },
  {
   "cell_type": "code",
   "execution_count": 13,
   "id": "804af485-1e88-44a6-91c0-9b514a39334e",
   "metadata": {},
   "outputs": [
    {
     "name": "stdout",
     "output_type": "stream",
     "text": [
      "+------------------+\n",
      "|           (n + 4)|\n",
      "+------------------+\n",
      "|3.2876093379494122|\n",
      "| 4.753766378659703|\n",
      "|3.9554969216619464|\n",
      "|  4.45181233874579|\n",
      "|5.3451017084510095|\n",
      "+------------------+\n",
      "only showing top 5 rows\n",
      "\n"
     ]
    }
   ],
   "source": [
    "# B. \n",
    "df.select(df.n + 4).show(5)"
   ]
  },
  {
   "cell_type": "code",
   "execution_count": 14,
   "id": "a52d2a42-b39e-4632-9e9f-18ae919ed02e",
   "metadata": {},
   "outputs": [
    {
     "name": "stdout",
     "output_type": "stream",
     "text": [
      "+-------------------+\n",
      "|            (n - 5)|\n",
      "+-------------------+\n",
      "| -5.712390662050588|\n",
      "| -4.246233621340297|\n",
      "| -5.044503078338053|\n",
      "|  -4.54818766125421|\n",
      "|-3.6548982915489905|\n",
      "+-------------------+\n",
      "only showing top 5 rows\n",
      "\n"
     ]
    }
   ],
   "source": [
    "# C. \n",
    "df.select(df.n - 5).show(5)"
   ]
  },
  {
   "cell_type": "code",
   "execution_count": 15,
   "id": "a4c2b5e1-b621-4376-8043-7c61f9f25fc4",
   "metadata": {},
   "outputs": [
    {
     "name": "stdout",
     "output_type": "stream",
     "text": [
      "+--------------------+--------------------+\n",
      "|                   n|             (n * 2)|\n",
      "+--------------------+--------------------+\n",
      "|  -0.712390662050588|  -1.424781324101176|\n",
      "|   0.753766378659703|   1.507532757319406|\n",
      "|-0.04450307833805...|-0.08900615667610691|\n",
      "| 0.45181233874578974|  0.9036246774915795|\n",
      "|  1.3451017084510097|  2.6902034169020195|\n",
      "+--------------------+--------------------+\n",
      "only showing top 5 rows\n",
      "\n"
     ]
    }
   ],
   "source": [
    "# D. \n",
    "df.select(df.n, df.n * 2).show(5)"
   ]
  },
  {
   "cell_type": "code",
   "execution_count": 16,
   "id": "169f6793-c54c-4533-8bf5-837b7a20dfad",
   "metadata": {},
   "outputs": [
    {
     "name": "stdout",
     "output_type": "stream",
     "text": [
      "+-----+-----+--------------------+--------------------+\n",
      "|group|abool|                   n|                  n2|\n",
      "+-----+-----+--------------------+--------------------+\n",
      "|    z|false|  -0.712390662050588|   0.712390662050588|\n",
      "|    x|false|   0.753766378659703|  -0.753766378659703|\n",
      "|    z|false|-0.04450307833805...|0.044503078338053455|\n",
      "|    y|false| 0.45181233874578974|-0.45181233874578974|\n",
      "|    z|false|  1.3451017084510097| -1.3451017084510097|\n",
      "+-----+-----+--------------------+--------------------+\n",
      "only showing top 5 rows\n",
      "\n"
     ]
    }
   ],
   "source": [
    "# E.\n",
    "df = df.select('group', 'abool', 'n', (df.n * -1).alias('n2'))\n",
    "df.show(5)"
   ]
  },
  {
   "cell_type": "code",
   "execution_count": 17,
   "id": "0a25f4f6-e8f1-4fa7-80db-8aa275051029",
   "metadata": {},
   "outputs": [
    {
     "name": "stdout",
     "output_type": "stream",
     "text": [
      "+-----+-----+--------------------+--------------------+--------------------+\n",
      "|group|abool|                   n|                  n2|                  n3|\n",
      "+-----+-----+--------------------+--------------------+--------------------+\n",
      "|    z|false|  -0.712390662050588|   0.712390662050588|   0.507500455376875|\n",
      "|    x|false|   0.753766378659703|  -0.753766378659703|  0.5681637535977627|\n",
      "|    z|false|-0.04450307833805...|0.044503078338053455|0.001980523981562...|\n",
      "|    y|false| 0.45181233874578974|-0.45181233874578974| 0.20413438944294027|\n",
      "|    z|false|  1.3451017084510097| -1.3451017084510097|  1.8092986060778251|\n",
      "+-----+-----+--------------------+--------------------+--------------------+\n",
      "only showing top 5 rows\n",
      "\n"
     ]
    }
   ],
   "source": [
    "# F. \n",
    "df = df.select('*', (df.n ** 2).alias('n3'))\n",
    "df.show(5)"
   ]
  },
  {
   "cell_type": "code",
   "execution_count": 18,
   "id": "1d1a4f8b-035b-489b-9fe2-25947a4b5087",
   "metadata": {},
   "outputs": [
    {
     "data": {
      "text/plain": [
       "Column<'(group + abool)'>"
      ]
     },
     "execution_count": 18,
     "metadata": {},
     "output_type": "execute_result"
    }
   ],
   "source": [
    "# G. \n",
    "df.group + df.abool"
   ]
  },
  {
   "cell_type": "code",
   "execution_count": 19,
   "id": "d3b6dc99-c790-4c8b-88d0-75cdbf858eca",
   "metadata": {},
   "outputs": [
    {
     "ename": "AnalysisException",
     "evalue": "cannot resolve '(CAST(group AS DOUBLE) + abool)' due to data type mismatch: differing types in '(CAST(group AS DOUBLE) + abool)' (double and boolean).;\n'Project [unresolvedalias((cast(group#1 as double) + abool#2), Some(org.apache.spark.sql.Column$$Lambda$3323/0x00000008012ae040@610d3a3b))]\n+- Project [group#1, abool#2, n#0, n2#244, POWER(n#0, cast(2 as double)) AS n3#266]\n   +- Project [group#1, abool#2, n#0, (n#0 * cast(-1 as double)) AS n2#244]\n      +- LogicalRDD [n#0, group#1, abool#2], false\n",
     "output_type": "error",
     "traceback": [
      "\u001b[0;31m---------------------------------------------------------------------------\u001b[0m",
      "\u001b[0;31mAnalysisException\u001b[0m                         Traceback (most recent call last)",
      "\u001b[0;32m/var/folders/fg/q99bqqm954n5m7n5b4xn7tyw0000gn/T/ipykernel_49606/3005504900.py\u001b[0m in \u001b[0;36m<module>\u001b[0;34m\u001b[0m\n\u001b[1;32m      1\u001b[0m \u001b[0;31m# H.\u001b[0m\u001b[0;34m\u001b[0m\u001b[0;34m\u001b[0m\u001b[0m\n\u001b[0;32m----> 2\u001b[0;31m \u001b[0mdf\u001b[0m\u001b[0;34m.\u001b[0m\u001b[0mselect\u001b[0m\u001b[0;34m(\u001b[0m\u001b[0mdf\u001b[0m\u001b[0;34m.\u001b[0m\u001b[0mgroup\u001b[0m \u001b[0;34m+\u001b[0m \u001b[0mdf\u001b[0m\u001b[0;34m.\u001b[0m\u001b[0mabool\u001b[0m\u001b[0;34m)\u001b[0m\u001b[0;34m\u001b[0m\u001b[0;34m\u001b[0m\u001b[0m\n\u001b[0m\u001b[1;32m      3\u001b[0m \u001b[0;31m# it creates an error due to incompatabilities between dtypes\u001b[0m\u001b[0;34m\u001b[0m\u001b[0;34m\u001b[0m\u001b[0m\n",
      "\u001b[0;32m/opt/homebrew/anaconda3/lib/python3.9/site-packages/pyspark/sql/dataframe.py\u001b[0m in \u001b[0;36mselect\u001b[0;34m(self, *cols)\u001b[0m\n\u001b[1;32m   1683\u001b[0m         \u001b[0;34m[\u001b[0m\u001b[0mRow\u001b[0m\u001b[0;34m(\u001b[0m\u001b[0mname\u001b[0m\u001b[0;34m=\u001b[0m\u001b[0;34m'Alice'\u001b[0m\u001b[0;34m,\u001b[0m \u001b[0mage\u001b[0m\u001b[0;34m=\u001b[0m\u001b[0;36m12\u001b[0m\u001b[0;34m)\u001b[0m\u001b[0;34m,\u001b[0m \u001b[0mRow\u001b[0m\u001b[0;34m(\u001b[0m\u001b[0mname\u001b[0m\u001b[0;34m=\u001b[0m\u001b[0;34m'Bob'\u001b[0m\u001b[0;34m,\u001b[0m \u001b[0mage\u001b[0m\u001b[0;34m=\u001b[0m\u001b[0;36m15\u001b[0m\u001b[0;34m)\u001b[0m\u001b[0;34m]\u001b[0m\u001b[0;34m\u001b[0m\u001b[0;34m\u001b[0m\u001b[0m\n\u001b[1;32m   1684\u001b[0m         \"\"\"\n\u001b[0;32m-> 1685\u001b[0;31m         \u001b[0mjdf\u001b[0m \u001b[0;34m=\u001b[0m \u001b[0mself\u001b[0m\u001b[0;34m.\u001b[0m\u001b[0m_jdf\u001b[0m\u001b[0;34m.\u001b[0m\u001b[0mselect\u001b[0m\u001b[0;34m(\u001b[0m\u001b[0mself\u001b[0m\u001b[0;34m.\u001b[0m\u001b[0m_jcols\u001b[0m\u001b[0;34m(\u001b[0m\u001b[0;34m*\u001b[0m\u001b[0mcols\u001b[0m\u001b[0;34m)\u001b[0m\u001b[0;34m)\u001b[0m\u001b[0;34m\u001b[0m\u001b[0;34m\u001b[0m\u001b[0m\n\u001b[0m\u001b[1;32m   1686\u001b[0m         \u001b[0;32mreturn\u001b[0m \u001b[0mDataFrame\u001b[0m\u001b[0;34m(\u001b[0m\u001b[0mjdf\u001b[0m\u001b[0;34m,\u001b[0m \u001b[0mself\u001b[0m\u001b[0;34m.\u001b[0m\u001b[0msql_ctx\u001b[0m\u001b[0;34m)\u001b[0m\u001b[0;34m\u001b[0m\u001b[0;34m\u001b[0m\u001b[0m\n\u001b[1;32m   1687\u001b[0m \u001b[0;34m\u001b[0m\u001b[0m\n",
      "\u001b[0;32m/opt/homebrew/anaconda3/lib/python3.9/site-packages/py4j/java_gateway.py\u001b[0m in \u001b[0;36m__call__\u001b[0;34m(self, *args)\u001b[0m\n\u001b[1;32m   1319\u001b[0m \u001b[0;34m\u001b[0m\u001b[0m\n\u001b[1;32m   1320\u001b[0m         \u001b[0manswer\u001b[0m \u001b[0;34m=\u001b[0m \u001b[0mself\u001b[0m\u001b[0;34m.\u001b[0m\u001b[0mgateway_client\u001b[0m\u001b[0;34m.\u001b[0m\u001b[0msend_command\u001b[0m\u001b[0;34m(\u001b[0m\u001b[0mcommand\u001b[0m\u001b[0;34m)\u001b[0m\u001b[0;34m\u001b[0m\u001b[0;34m\u001b[0m\u001b[0m\n\u001b[0;32m-> 1321\u001b[0;31m         return_value = get_return_value(\n\u001b[0m\u001b[1;32m   1322\u001b[0m             answer, self.gateway_client, self.target_id, self.name)\n\u001b[1;32m   1323\u001b[0m \u001b[0;34m\u001b[0m\u001b[0m\n",
      "\u001b[0;32m/opt/homebrew/anaconda3/lib/python3.9/site-packages/pyspark/sql/utils.py\u001b[0m in \u001b[0;36mdeco\u001b[0;34m(*a, **kw)\u001b[0m\n\u001b[1;32m    115\u001b[0m                 \u001b[0;31m# Hide where the exception came from that shows a non-Pythonic\u001b[0m\u001b[0;34m\u001b[0m\u001b[0;34m\u001b[0m\u001b[0m\n\u001b[1;32m    116\u001b[0m                 \u001b[0;31m# JVM exception message.\u001b[0m\u001b[0;34m\u001b[0m\u001b[0;34m\u001b[0m\u001b[0m\n\u001b[0;32m--> 117\u001b[0;31m                 \u001b[0;32mraise\u001b[0m \u001b[0mconverted\u001b[0m \u001b[0;32mfrom\u001b[0m \u001b[0;32mNone\u001b[0m\u001b[0;34m\u001b[0m\u001b[0;34m\u001b[0m\u001b[0m\n\u001b[0m\u001b[1;32m    118\u001b[0m             \u001b[0;32melse\u001b[0m\u001b[0;34m:\u001b[0m\u001b[0;34m\u001b[0m\u001b[0;34m\u001b[0m\u001b[0m\n\u001b[1;32m    119\u001b[0m                 \u001b[0;32mraise\u001b[0m\u001b[0;34m\u001b[0m\u001b[0;34m\u001b[0m\u001b[0m\n",
      "\u001b[0;31mAnalysisException\u001b[0m: cannot resolve '(CAST(group AS DOUBLE) + abool)' due to data type mismatch: differing types in '(CAST(group AS DOUBLE) + abool)' (double and boolean).;\n'Project [unresolvedalias((cast(group#1 as double) + abool#2), Some(org.apache.spark.sql.Column$$Lambda$3323/0x00000008012ae040@610d3a3b))]\n+- Project [group#1, abool#2, n#0, n2#244, POWER(n#0, cast(2 as double)) AS n3#266]\n   +- Project [group#1, abool#2, n#0, (n#0 * cast(-1 as double)) AS n2#244]\n      +- LogicalRDD [n#0, group#1, abool#2], false\n"
     ]
    }
   ],
   "source": [
    "# H.\n",
    "df.select(df.group + df.abool)\n",
    "# it creates an error due to incompatabilities between dtypes"
   ]
  },
  {
   "cell_type": "code",
   "execution_count": 20,
   "id": "48cdfbf6-2d5f-41ba-b368-92ede8fc703e",
   "metadata": {},
   "outputs": [
    {
     "name": "stdout",
     "output_type": "stream",
     "text": [
      "+-----------+\n",
      "|(group + n)|\n",
      "+-----------+\n",
      "|       null|\n",
      "|       null|\n",
      "|       null|\n",
      "|       null|\n",
      "|       null|\n",
      "+-----------+\n",
      "only showing top 5 rows\n",
      "\n"
     ]
    }
   ],
   "source": [
    "# I. \n",
    "df.select(df.group + df.n).show(5)"
   ]
  },
  {
   "cell_type": "code",
   "execution_count": 21,
   "id": "07b2b0a1-e74f-480d-abe7-e00eb962a481",
   "metadata": {},
   "outputs": [
    {
     "name": "stdout",
     "output_type": "stream",
     "text": [
      "+--------------------+\n",
      "|            (n3 + n)|\n",
      "+--------------------+\n",
      "|-0.20489020667371294|\n",
      "|  1.3219301322574657|\n",
      "|-0.04252255435649...|\n",
      "|    0.65594672818873|\n",
      "|   3.154400314528835|\n",
      "+--------------------+\n",
      "only showing top 5 rows\n",
      "\n"
     ]
    }
   ],
   "source": [
    "df.select(df.n3 + df.n).show(5)"
   ]
  },
  {
   "cell_type": "code",
   "execution_count": 22,
   "id": "ffb12a5c-f3bc-4aef-9b87-0cb5256e0cdb",
   "metadata": {},
   "outputs": [
    {
     "name": "stdout",
     "output_type": "stream",
     "text": [
      "+--------------------+\n",
      "|           (n2 + n3)|\n",
      "+--------------------+\n",
      "|   1.219891117427463|\n",
      "|-0.18560262506194025|\n",
      "|0.046483602319616374|\n",
      "|-0.24767794930284948|\n",
      "|  0.4641968976268154|\n",
      "+--------------------+\n",
      "only showing top 5 rows\n",
      "\n"
     ]
    }
   ],
   "source": [
    "df.select(df.n2 + df.n3).show(5)"
   ]
  },
  {
   "cell_type": "markdown",
   "id": "f7a7400b-510d-440b-99d6-38caa11c10ad",
   "metadata": {},
   "source": [
    "*Data types need to match.*"
   ]
  },
  {
   "cell_type": "markdown",
   "id": "e7dc1832-861f-4988-b7fd-d04b52921616",
   "metadata": {},
   "source": [
    "3. Type casting\n",
    "\n",
    "    1. Use the starter code above to re-create a spark dataframe.\n",
    "\n",
    "    1. Use `.printSchema` to view the datatypes in your dataframe.\n",
    "\n",
    "    1. Use `.dtypes` to view the datatypes in your dataframe.\n",
    "\n",
    "    1. What is the difference between the two code samples below?\n",
    "\n",
    "        ```python\n",
    "        df.abool.cast('int')\n",
    "        ```\n",
    "\n",
    "        ```python\n",
    "        df.select(df.abool.cast('int')).show()\n",
    "        ```\n",
    "\n",
    "    1. Use `.select` and `.cast` to convert the `abool` column to an integer\n",
    "       type. View the results.\n",
    "    1. Convert the `group` column to a integer data type and view the results.\n",
    "       What happens?\n",
    "    1. Convert the `n` column to a integer data type and view the results. What\n",
    "       happens?\n",
    "    1. Convert the `abool` column to a string data type and view the results.\n",
    "       What happens?"
   ]
  },
  {
   "cell_type": "code",
   "execution_count": 23,
   "id": "8509d646-8e8e-4427-bada-20665b31cc15",
   "metadata": {},
   "outputs": [
    {
     "name": "stdout",
     "output_type": "stream",
     "text": [
      "root\n",
      " |-- group: string (nullable = true)\n",
      " |-- abool: boolean (nullable = true)\n",
      " |-- n: double (nullable = true)\n",
      " |-- n2: double (nullable = true)\n",
      " |-- n3: double (nullable = true)\n",
      "\n"
     ]
    }
   ],
   "source": [
    "# B. \n",
    "df.printSchema()"
   ]
  },
  {
   "cell_type": "code",
   "execution_count": 24,
   "id": "5ccf45ac-33d4-4f60-b95b-25dc452544c9",
   "metadata": {},
   "outputs": [
    {
     "data": {
      "text/plain": [
       "[('group', 'string'),\n",
       " ('abool', 'boolean'),\n",
       " ('n', 'double'),\n",
       " ('n2', 'double'),\n",
       " ('n3', 'double')]"
      ]
     },
     "execution_count": 24,
     "metadata": {},
     "output_type": "execute_result"
    }
   ],
   "source": [
    "# C.\n",
    "df.dtypes"
   ]
  },
  {
   "cell_type": "code",
   "execution_count": 25,
   "id": "c35fa09b-6979-4b0c-b1a6-6923013cc321",
   "metadata": {},
   "outputs": [
    {
     "data": {
      "text/plain": [
       "Column<'CAST(abool AS INT)'>"
      ]
     },
     "execution_count": 25,
     "metadata": {},
     "output_type": "execute_result"
    }
   ],
   "source": [
    "# D. \n",
    "df.abool.cast('int')"
   ]
  },
  {
   "cell_type": "code",
   "execution_count": 26,
   "id": "48302bfa-43df-44c3-a2af-d73f116138b8",
   "metadata": {},
   "outputs": [
    {
     "name": "stdout",
     "output_type": "stream",
     "text": [
      "+-----+\n",
      "|abool|\n",
      "+-----+\n",
      "|    0|\n",
      "|    0|\n",
      "|    0|\n",
      "|    0|\n",
      "|    0|\n",
      "|    0|\n",
      "|    0|\n",
      "|    0|\n",
      "|    1|\n",
      "|    1|\n",
      "|    0|\n",
      "|    0|\n",
      "|    1|\n",
      "|    1|\n",
      "|    0|\n",
      "|    0|\n",
      "|    0|\n",
      "|    1|\n",
      "|    0|\n",
      "|    1|\n",
      "+-----+\n",
      "\n"
     ]
    }
   ],
   "source": [
    "# Does the same thing as other line but displays the results\n",
    "df.select(df.abool.cast('int')).show() "
   ]
  },
  {
   "cell_type": "code",
   "execution_count": 27,
   "id": "80d51241-647d-43e3-99a8-b45ad9f2344c",
   "metadata": {},
   "outputs": [
    {
     "name": "stdout",
     "output_type": "stream",
     "text": [
      "+-----+\n",
      "|abool|\n",
      "+-----+\n",
      "|    0|\n",
      "|    0|\n",
      "|    0|\n",
      "|    0|\n",
      "|    0|\n",
      "+-----+\n",
      "only showing top 5 rows\n",
      "\n"
     ]
    }
   ],
   "source": [
    "# E. \n",
    "df.select(df.abool.cast('int')).show(5)"
   ]
  },
  {
   "cell_type": "code",
   "execution_count": 28,
   "id": "bb472e2a-f2ee-48fd-8846-c0ee4d541747",
   "metadata": {},
   "outputs": [
    {
     "name": "stdout",
     "output_type": "stream",
     "text": [
      "+-----+\n",
      "|group|\n",
      "+-----+\n",
      "| null|\n",
      "| null|\n",
      "| null|\n",
      "| null|\n",
      "| null|\n",
      "+-----+\n",
      "only showing top 5 rows\n",
      "\n"
     ]
    }
   ],
   "source": [
    "# F. \n",
    "df.select(df.group.cast('int')).show(5)"
   ]
  },
  {
   "cell_type": "code",
   "execution_count": 29,
   "id": "ea744e05-1d16-4530-9b1a-c1426e902e58",
   "metadata": {},
   "outputs": [
    {
     "name": "stdout",
     "output_type": "stream",
     "text": [
      "+--------------------+--------+\n",
      "|                   n|n_as_int|\n",
      "+--------------------+--------+\n",
      "|  -0.712390662050588|       0|\n",
      "|   0.753766378659703|       0|\n",
      "|-0.04450307833805...|       0|\n",
      "| 0.45181233874578974|       0|\n",
      "|  1.3451017084510097|       1|\n",
      "+--------------------+--------+\n",
      "only showing top 5 rows\n",
      "\n"
     ]
    }
   ],
   "source": [
    "# G.\n",
    "df.select(df.n, df.n.cast('int').alias('n_as_int')).show(5)"
   ]
  },
  {
   "cell_type": "code",
   "execution_count": 30,
   "id": "b41bd2ab-79a0-4625-9298-f97a18b851a0",
   "metadata": {},
   "outputs": [
    {
     "name": "stdout",
     "output_type": "stream",
     "text": [
      "+-----+---------------+\n",
      "|abool|abool_as_string|\n",
      "+-----+---------------+\n",
      "|false|          false|\n",
      "|false|          false|\n",
      "|false|          false|\n",
      "|false|          false|\n",
      "|false|          false|\n",
      "+-----+---------------+\n",
      "only showing top 5 rows\n",
      "\n"
     ]
    }
   ],
   "source": [
    "# H.\n",
    "df.select(df.abool, df.abool.cast('string').alias('abool_as_string')).show(5)"
   ]
  },
  {
   "cell_type": "markdown",
   "id": "b9d6488c-913b-4794-ab76-dea26650e978",
   "metadata": {},
   "source": [
    "4. Built-in Functions\n",
    "\n",
    "    1. Use the starter code above to re-create a spark dataframe.\n",
    "    1. Import the necessary functions from `pyspark.sql.functions`\n",
    "    1. Find the highest `n` value.\n",
    "    1. Find the lowest `n` value.\n",
    "    1. Find the average `n` value.\n",
    "    1. Use `concat` to change the `group` column to say, e.g. \"Group: x\" or\n",
    "       \"Group: y\"\n",
    "    1. Use `concat` to combine the `n` and `group` columns to produce results\n",
    "       that look like this: \"x: -1.432\" or \"z: 2.352\""
   ]
  },
  {
   "cell_type": "code",
   "execution_count": 33,
   "id": "da46ff23-5150-445b-ac47-f3d5003ec3a5",
   "metadata": {},
   "outputs": [
    {
     "name": "stdout",
     "output_type": "stream",
     "text": [
      "+------------------+\n",
      "|            max(n)|\n",
      "+------------------+\n",
      "|2.1503829673811126|\n",
      "+------------------+\n",
      "\n"
     ]
    }
   ],
   "source": [
    "# C. \n",
    "df.select(max(df.n)).show()"
   ]
  },
  {
   "cell_type": "code",
   "execution_count": 34,
   "id": "d58b798f-bcd0-4c9d-b51b-cc9cc0a5cb61",
   "metadata": {},
   "outputs": [
    {
     "name": "stdout",
     "output_type": "stream",
     "text": [
      "+------------------+\n",
      "|            min(n)|\n",
      "+------------------+\n",
      "|-1.261605945319069|\n",
      "+------------------+\n",
      "\n"
     ]
    }
   ],
   "source": [
    "# D. \n",
    "df.select(min(df.n)).show()"
   ]
  },
  {
   "cell_type": "code",
   "execution_count": 35,
   "id": "7b4609b0-b8c6-4579-97a1-ff6b41368773",
   "metadata": {},
   "outputs": [
    {
     "name": "stdout",
     "output_type": "stream",
     "text": [
      "+------------------+\n",
      "|            avg(n)|\n",
      "+------------------+\n",
      "|0.3664026449885217|\n",
      "+------------------+\n",
      "\n"
     ]
    }
   ],
   "source": [
    "# E. \n",
    "df.select(mean(df.n)).show()"
   ]
  },
  {
   "cell_type": "code",
   "execution_count": 36,
   "id": "6dae83e4-791e-40f3-b896-6e123e00e61f",
   "metadata": {},
   "outputs": [
    {
     "name": "stdout",
     "output_type": "stream",
     "text": [
      "+---------+\n",
      "|new_group|\n",
      "+---------+\n",
      "|  Group:z|\n",
      "|  Group:x|\n",
      "|  Group:z|\n",
      "|  Group:y|\n",
      "|  Group:z|\n",
      "+---------+\n",
      "only showing top 5 rows\n",
      "\n"
     ]
    }
   ],
   "source": [
    "# F. \n",
    "df.select(concat(lit('Group:'), df.group).alias('new_group')).show(5)"
   ]
  },
  {
   "cell_type": "code",
   "execution_count": 37,
   "id": "fd18d908-bbf6-40af-8db5-dbe060e14523",
   "metadata": {},
   "outputs": [
    {
     "name": "stdout",
     "output_type": "stream",
     "text": [
      "+--------------------+\n",
      "|           new_group|\n",
      "+--------------------+\n",
      "|z:-0.712390662050588|\n",
      "| x:0.753766378659703|\n",
      "|z:-0.044503078338...|\n",
      "|y:0.4518123387457...|\n",
      "|z:1.3451017084510097|\n",
      "+--------------------+\n",
      "only showing top 5 rows\n",
      "\n"
     ]
    }
   ],
   "source": [
    "# G. \n",
    "df.select(concat(df.group, lit(':'), df.n).alias('new_group')).show(5)"
   ]
  },
  {
   "cell_type": "markdown",
   "id": "f258f676-6b05-4a0b-a060-1207f9408c14",
   "metadata": {},
   "source": [
    "5. When / Otherwise\n",
    "\n",
    "    1. Use the starter code above to re-create a spark dataframe.\n",
    "    1. Use `when` and `.otherwise` to create a column that contains the text \"It\n",
    "       is true\" when `abool` is true and \"It is false\"\" when `abool` is false.\n",
    "    1. Create a column that contains 0 if n is less than 0, otherwise, the\n",
    "       original n value."
   ]
  },
  {
   "cell_type": "code",
   "execution_count": 38,
   "id": "6890fb2b-0ee8-47c8-83d9-944b8c2590b6",
   "metadata": {},
   "outputs": [
    {
     "name": "stdout",
     "output_type": "stream",
     "text": [
      "+-----+-----------+\n",
      "|abool| abool_desc|\n",
      "+-----+-----------+\n",
      "|false|It is false|\n",
      "|false|It is false|\n",
      "|false|It is false|\n",
      "|false|It is false|\n",
      "|false|It is false|\n",
      "+-----+-----------+\n",
      "only showing top 5 rows\n",
      "\n"
     ]
    }
   ],
   "source": [
    "# B. \n",
    "df.select(\n",
    "    'abool',\n",
    "    (when(df.abool > True, 'It is true')\n",
    "     .otherwise('It is false')\n",
    "     .alias('abool_desc'))\n",
    ").show(5)"
   ]
  },
  {
   "cell_type": "code",
   "execution_count": 40,
   "id": "d55bd1b0-92f1-4697-8098-3a162f26fa29",
   "metadata": {},
   "outputs": [
    {
     "name": "stdout",
     "output_type": "stream",
     "text": [
      "+--------------------+-------------------+\n",
      "|                   n|        less_than_0|\n",
      "+--------------------+-------------------+\n",
      "|  -0.712390662050588|                0.0|\n",
      "|   0.753766378659703|  0.753766378659703|\n",
      "|-0.04450307833805...|                0.0|\n",
      "| 0.45181233874578974|0.45181233874578974|\n",
      "|  1.3451017084510097| 1.3451017084510097|\n",
      "+--------------------+-------------------+\n",
      "only showing top 5 rows\n",
      "\n"
     ]
    }
   ],
   "source": [
    "df.select(\n",
    "    'n',\n",
    "    (when(df.n < 0, 0)\n",
    "     .otherwise(df.n)\n",
    "     .alias('less_than_0'))\n",
    ").show(5)"
   ]
  },
  {
   "cell_type": "markdown",
   "id": "fd884d90-496d-43b9-9fe0-0ac9ebf275f5",
   "metadata": {},
   "source": [
    "6. Filter / Where\n",
    "\n",
    "    1. Use the starter code above to re-create a spark dataframe.\n",
    "    1. Use `.filter` or `.where` to select just the rows where the group is `y`\n",
    "       and view the results.\n",
    "    1. Select just the columns where the `abool` column is false and view the\n",
    "       results.\n",
    "    1. Find the columns where the `group` column is *not* `y`.\n",
    "    1. Find the columns where `n` is positive.\n",
    "    1. Find the columns where `abool` is true and the `group` column is `z`.\n",
    "    1. Find the columns where `abool` is true or the `group` column is `z`.\n",
    "    1. Find the columns where `abool` is false and `n` is less than 1\n",
    "    1. Find the columns where `abool` is false or `n` is less than 1"
   ]
  },
  {
   "cell_type": "code",
   "execution_count": 41,
   "id": "de84ca31-3ebe-4713-a73a-ce6cf335b5c4",
   "metadata": {},
   "outputs": [
    {
     "name": "stdout",
     "output_type": "stream",
     "text": [
      "+-----+-----+--------------------+--------------------+-------------------+\n",
      "|group|abool|                   n|                  n2|                 n3|\n",
      "+-----+-----+--------------------+--------------------+-------------------+\n",
      "|    y|false| 0.45181233874578974|-0.45181233874578974|0.20413438944294027|\n",
      "|    y|false|  0.5323378882945463| -0.5323378882945463| 0.2833836273138969|\n",
      "|    y| true| -1.0453771305385342|  1.0453771305385342| 1.0928133450529796|\n",
      "|    y|false|  -1.261605945319069|   1.261605945319069|  1.591649561264422|\n",
      "|    y| true|  0.5628467852810314| -0.5628467852810314|0.31679650370119145|\n",
      "|    y| true|-0.24332625188556253| 0.24332625188556253|0.05920766485667622|\n",
      "|    y|false|  0.9137407048596775| -0.9137407048596775| 0.8349220757174602|\n",
      "|    y| true|  2.1503829673811126| -2.1503829673811126|  4.624146906402799|\n",
      "+-----+-----+--------------------+--------------------+-------------------+\n",
      "\n"
     ]
    }
   ],
   "source": [
    "# B. \n",
    "df.where(df.group == 'y').show()"
   ]
  },
  {
   "cell_type": "code",
   "execution_count": 42,
   "id": "06eb381b-3779-4081-b48e-9ac3b21ab67f",
   "metadata": {},
   "outputs": [
    {
     "name": "stdout",
     "output_type": "stream",
     "text": [
      "+-----+-----+--------------------+--------------------+--------------------+\n",
      "|group|abool|                   n|                  n2|                  n3|\n",
      "+-----+-----+--------------------+--------------------+--------------------+\n",
      "|    z|false|  -0.712390662050588|   0.712390662050588|   0.507500455376875|\n",
      "|    x|false|   0.753766378659703|  -0.753766378659703|  0.5681637535977627|\n",
      "|    z|false|-0.04450307833805...|0.044503078338053455|0.001980523981562...|\n",
      "|    y|false| 0.45181233874578974|-0.45181233874578974| 0.20413438944294027|\n",
      "|    z|false|  1.3451017084510097| -1.3451017084510097|  1.8092986060778251|\n",
      "|    y|false|  0.5323378882945463| -0.5323378882945463|  0.2833836273138969|\n",
      "|    z|false|  1.3501878997225267| -1.3501878997225267|  1.8230073645571279|\n",
      "|    x|false|  0.8612113741693206| -0.8612113741693206|  0.7416850309986095|\n",
      "|    x|false| -0.7889890249515489|  0.7889890249515489|  0.6225036814939958|\n",
      "|    y|false|  -1.261605945319069|   1.261605945319069|   1.591649561264422|\n",
      "|    y|false|  0.9137407048596775| -0.9137407048596775|  0.8349220757174602|\n",
      "|    x|false| 0.31735092273633597|-0.31735092273633597| 0.10071160816160388|\n",
      "|    z|false| 0.12730328020698067|-0.12730328020698067|0.016206125151457036|\n",
      "|    x|false|  0.6062886568962988| -0.6062886568962988|   0.367585935481118|\n",
      "+-----+-----+--------------------+--------------------+--------------------+\n",
      "\n"
     ]
    }
   ],
   "source": [
    "# C. \n",
    "df.where(df.abool == 'false').show()"
   ]
  },
  {
   "cell_type": "code",
   "execution_count": 43,
   "id": "0a6070e9-3029-435a-8e81-4536815c0988",
   "metadata": {},
   "outputs": [
    {
     "name": "stdout",
     "output_type": "stream",
     "text": [
      "+-----+-----+--------------------+--------------------+--------------------+\n",
      "|group|abool|                   n|                  n2|                  n3|\n",
      "+-----+-----+--------------------+--------------------+--------------------+\n",
      "|    z|false|  -0.712390662050588|   0.712390662050588|   0.507500455376875|\n",
      "|    x|false|   0.753766378659703|  -0.753766378659703|  0.5681637535977627|\n",
      "|    z|false|-0.04450307833805...|0.044503078338053455|0.001980523981562...|\n",
      "|    z|false|  1.3451017084510097| -1.3451017084510097|  1.8092986060778251|\n",
      "|    z|false|  1.3501878997225267| -1.3501878997225267|  1.8230073645571279|\n",
      "+-----+-----+--------------------+--------------------+--------------------+\n",
      "only showing top 5 rows\n",
      "\n"
     ]
    }
   ],
   "source": [
    "# D. \n",
    "df.filter(df.group != 'y').show(5)"
   ]
  },
  {
   "cell_type": "code",
   "execution_count": 44,
   "id": "5263754d-634b-4f97-b153-3b8e42d3281f",
   "metadata": {},
   "outputs": [
    {
     "name": "stdout",
     "output_type": "stream",
     "text": [
      "+-----+-----+-------------------+--------------------+-------------------+\n",
      "|group|abool|                  n|                  n2|                 n3|\n",
      "+-----+-----+-------------------+--------------------+-------------------+\n",
      "|    x|false|  0.753766378659703|  -0.753766378659703| 0.5681637535977627|\n",
      "|    y|false|0.45181233874578974|-0.45181233874578974|0.20413438944294027|\n",
      "|    z|false| 1.3451017084510097| -1.3451017084510097| 1.8092986060778251|\n",
      "|    y|false| 0.5323378882945463| -0.5323378882945463| 0.2833836273138969|\n",
      "|    z|false| 1.3501878997225267| -1.3501878997225267| 1.8230073645571279|\n",
      "+-----+-----+-------------------+--------------------+-------------------+\n",
      "only showing top 5 rows\n",
      "\n"
     ]
    }
   ],
   "source": [
    "# E. \n",
    "df.filter(df.n > 0).show(5)"
   ]
  },
  {
   "cell_type": "code",
   "execution_count": 45,
   "id": "35734b55-b786-499c-b70c-9966fc477f38",
   "metadata": {},
   "outputs": [
    {
     "name": "stdout",
     "output_type": "stream",
     "text": [
      "+-----+-----+------------------+-------------------+------------------+\n",
      "|group|abool|                 n|                 n2|                n3|\n",
      "+-----+-----+------------------+-------------------+------------------+\n",
      "|    z| true|1.4786857374358966|-1.4786857374358966|2.1865115100963415|\n",
      "+-----+-----+------------------+-------------------+------------------+\n",
      "\n"
     ]
    }
   ],
   "source": [
    "# F\n",
    "df.filter((df.abool == True) & (df.group == 'z')).show()"
   ]
  },
  {
   "cell_type": "code",
   "execution_count": 46,
   "id": "f2617c3b-b25c-4fd6-b4db-dc850ba07689",
   "metadata": {},
   "outputs": [
    {
     "name": "stdout",
     "output_type": "stream",
     "text": [
      "+-----+-----+--------------------+--------------------+--------------------+\n",
      "|group|abool|                   n|                  n2|                  n3|\n",
      "+-----+-----+--------------------+--------------------+--------------------+\n",
      "|    z|false|  -0.712390662050588|   0.712390662050588|   0.507500455376875|\n",
      "|    z|false|-0.04450307833805...|0.044503078338053455|0.001980523981562...|\n",
      "|    z|false|  1.3451017084510097| -1.3451017084510097|  1.8092986060778251|\n",
      "|    z|false|  1.3501878997225267| -1.3501878997225267|  1.8230073645571279|\n",
      "|    z| true|  1.4786857374358966| -1.4786857374358966|  2.1865115100963415|\n",
      "+-----+-----+--------------------+--------------------+--------------------+\n",
      "only showing top 5 rows\n",
      "\n"
     ]
    }
   ],
   "source": [
    "# G. \n",
    "df.filter((df.abool) | (df.group == 'z')).show(5)"
   ]
  },
  {
   "cell_type": "code",
   "execution_count": 47,
   "id": "d5bdbf4b-3e21-417f-bd83-e7d3e4729277",
   "metadata": {},
   "outputs": [
    {
     "name": "stdout",
     "output_type": "stream",
     "text": [
      "+-----+-----+--------------------+--------------------+--------------------+\n",
      "|group|abool|                   n|                  n2|                  n3|\n",
      "+-----+-----+--------------------+--------------------+--------------------+\n",
      "|    z|false|  -0.712390662050588|   0.712390662050588|   0.507500455376875|\n",
      "|    x|false|   0.753766378659703|  -0.753766378659703|  0.5681637535977627|\n",
      "|    z|false|-0.04450307833805...|0.044503078338053455|0.001980523981562...|\n",
      "|    y|false| 0.45181233874578974|-0.45181233874578974| 0.20413438944294027|\n",
      "|    y|false|  0.5323378882945463| -0.5323378882945463|  0.2833836273138969|\n",
      "+-----+-----+--------------------+--------------------+--------------------+\n",
      "only showing top 5 rows\n",
      "\n"
     ]
    }
   ],
   "source": [
    "# H. \n",
    "df.filter((~ df.abool) & (df.n < 1)).show(5)"
   ]
  },
  {
   "cell_type": "code",
   "execution_count": 48,
   "id": "576b024a-fece-4ad9-bc35-2192e000e169",
   "metadata": {},
   "outputs": [
    {
     "name": "stdout",
     "output_type": "stream",
     "text": [
      "+-----+-----+--------------------+--------------------+--------------------+\n",
      "|group|abool|                   n|                  n2|                  n3|\n",
      "+-----+-----+--------------------+--------------------+--------------------+\n",
      "|    z|false|  -0.712390662050588|   0.712390662050588|   0.507500455376875|\n",
      "|    x|false|   0.753766378659703|  -0.753766378659703|  0.5681637535977627|\n",
      "|    z|false|-0.04450307833805...|0.044503078338053455|0.001980523981562...|\n",
      "|    y|false| 0.45181233874578974|-0.45181233874578974| 0.20413438944294027|\n",
      "|    y|false|  0.5323378882945463| -0.5323378882945463|  0.2833836273138969|\n",
      "+-----+-----+--------------------+--------------------+--------------------+\n",
      "only showing top 5 rows\n",
      "\n"
     ]
    }
   ],
   "source": [
    "# I. \n",
    "df.filter((~ df.abool) & (df.n < 1)).show(5)"
   ]
  },
  {
   "cell_type": "markdown",
   "id": "dce66bf6-ad5b-4a81-8584-041ce645d2c0",
   "metadata": {},
   "source": [
    "7. Sorting\n",
    "\n",
    "    1. Use the starter code above to re-create a spark dataframe.\n",
    "    1. Sort by the `n` value.\n",
    "    1. Sort by the `group` value, both ascending and descending.\n",
    "    1. Sort by the group value first, then, within each group, sort by `n`\n",
    "       value.\n",
    "    1. Sort by `abool`, `group`, and `n`. Does it matter in what order you\n",
    "       specify the columns when sorting?"
   ]
  },
  {
   "cell_type": "code",
   "execution_count": 49,
   "id": "bd60bf58-1d68-4066-9698-e3330f91670d",
   "metadata": {},
   "outputs": [
    {
     "name": "stderr",
     "output_type": "stream",
     "text": [
      "                                                                                \r"
     ]
    },
    {
     "name": "stdout",
     "output_type": "stream",
     "text": [
      "+-----+-----+--------------------+-------------------+-------------------+\n",
      "|group|abool|                   n|                 n2|                 n3|\n",
      "+-----+-----+--------------------+-------------------+-------------------+\n",
      "|    y|false|  -1.261605945319069|  1.261605945319069|  1.591649561264422|\n",
      "|    y| true| -1.0453771305385342| 1.0453771305385342| 1.0928133450529796|\n",
      "|    x|false| -0.7889890249515489| 0.7889890249515489| 0.6225036814939958|\n",
      "|    z|false|  -0.712390662050588|  0.712390662050588|  0.507500455376875|\n",
      "|    y| true|-0.24332625188556253|0.24332625188556253|0.05920766485667622|\n",
      "+-----+-----+--------------------+-------------------+-------------------+\n",
      "only showing top 5 rows\n",
      "\n"
     ]
    }
   ],
   "source": [
    "# B. \n",
    "df.sort('n').show(5)"
   ]
  },
  {
   "cell_type": "code",
   "execution_count": 50,
   "id": "e04da8ee-75c4-423c-a565-6597eac5e2b8",
   "metadata": {},
   "outputs": [
    {
     "name": "stdout",
     "output_type": "stream",
     "text": [
      "+-----+-----+--------------------+--------------------+--------------------+\n",
      "|group|abool|                   n|                  n2|                  n3|\n",
      "+-----+-----+--------------------+--------------------+--------------------+\n",
      "|    x|false|   0.753766378659703|  -0.753766378659703|  0.5681637535977627|\n",
      "|    x| true|-0.02677164998644...|0.026771649986440726|7.167212429964917E-4|\n",
      "|    x|false| -0.7889890249515489|  0.7889890249515489|  0.6225036814939958|\n",
      "|    x|false|  0.6062886568962988| -0.6062886568962988|   0.367585935481118|\n",
      "|    x|false|  0.8612113741693206| -0.8612113741693206|  0.7416850309986095|\n",
      "|    x|false| 0.31735092273633597|-0.31735092273633597| 0.10071160816160388|\n",
      "|    y| true|  0.5628467852810314| -0.5628467852810314| 0.31679650370119145|\n",
      "|    y|false|  0.5323378882945463| -0.5323378882945463|  0.2833836273138969|\n",
      "|    y|false|  -1.261605945319069|   1.261605945319069|   1.591649561264422|\n",
      "|    y| true| -1.0453771305385342|  1.0453771305385342|  1.0928133450529796|\n",
      "+-----+-----+--------------------+--------------------+--------------------+\n",
      "only showing top 10 rows\n",
      "\n"
     ]
    }
   ],
   "source": [
    "# C.\n",
    "df.sort('group').show(10) # ascending"
   ]
  },
  {
   "cell_type": "code",
   "execution_count": 51,
   "id": "88dc3c52-1173-4b77-9280-d0fb5a4dc8ec",
   "metadata": {},
   "outputs": [
    {
     "name": "stdout",
     "output_type": "stream",
     "text": [
      "+-----+-----+--------------------+--------------------+--------------------+\n",
      "|group|abool|                   n|                  n2|                  n3|\n",
      "+-----+-----+--------------------+--------------------+--------------------+\n",
      "|    z|false|  1.3501878997225267| -1.3501878997225267|  1.8230073645571279|\n",
      "|    z|false|  1.3451017084510097| -1.3451017084510097|  1.8092986060778251|\n",
      "|    z|false|  -0.712390662050588|   0.712390662050588|   0.507500455376875|\n",
      "|    z|false|-0.04450307833805...|0.044503078338053455|0.001980523981562...|\n",
      "|    z|false| 0.12730328020698067|-0.12730328020698067|0.016206125151457036|\n",
      "|    z| true|  1.4786857374358966| -1.4786857374358966|  2.1865115100963415|\n",
      "|    y|false|  -1.261605945319069|   1.261605945319069|   1.591649561264422|\n",
      "|    y| true|  2.1503829673811126| -2.1503829673811126|   4.624146906402799|\n",
      "|    y|false| 0.45181233874578974|-0.45181233874578974| 0.20413438944294027|\n",
      "|    y|false|  0.5323378882945463| -0.5323378882945463|  0.2833836273138969|\n",
      "+-----+-----+--------------------+--------------------+--------------------+\n",
      "only showing top 10 rows\n",
      "\n"
     ]
    }
   ],
   "source": [
    "df.sort('group', ascending=False).show(10) # descending"
   ]
  },
  {
   "cell_type": "code",
   "execution_count": 52,
   "id": "c0099004-c350-4990-b4ce-813585ad7879",
   "metadata": {},
   "outputs": [
    {
     "name": "stdout",
     "output_type": "stream",
     "text": [
      "+-----+-----+--------------------+--------------------+--------------------+\n",
      "|group|abool|                   n|                  n2|                  n3|\n",
      "+-----+-----+--------------------+--------------------+--------------------+\n",
      "|    x|false| -0.7889890249515489|  0.7889890249515489|  0.6225036814939958|\n",
      "|    x| true|-0.02677164998644...|0.026771649986440726|7.167212429964917E-4|\n",
      "|    x|false| 0.31735092273633597|-0.31735092273633597| 0.10071160816160388|\n",
      "|    x|false|  0.6062886568962988| -0.6062886568962988|   0.367585935481118|\n",
      "|    x|false|   0.753766378659703|  -0.753766378659703|  0.5681637535977627|\n",
      "|    x|false|  0.8612113741693206| -0.8612113741693206|  0.7416850309986095|\n",
      "|    y|false|  -1.261605945319069|   1.261605945319069|   1.591649561264422|\n",
      "|    y| true| -1.0453771305385342|  1.0453771305385342|  1.0928133450529796|\n",
      "|    y| true|-0.24332625188556253| 0.24332625188556253| 0.05920766485667622|\n",
      "|    y|false| 0.45181233874578974|-0.45181233874578974| 0.20413438944294027|\n",
      "|    y|false|  0.5323378882945463| -0.5323378882945463|  0.2833836273138969|\n",
      "|    y| true|  0.5628467852810314| -0.5628467852810314| 0.31679650370119145|\n",
      "|    y|false|  0.9137407048596775| -0.9137407048596775|  0.8349220757174602|\n",
      "|    y| true|  2.1503829673811126| -2.1503829673811126|   4.624146906402799|\n",
      "|    z|false|  -0.712390662050588|   0.712390662050588|   0.507500455376875|\n",
      "|    z|false|-0.04450307833805...|0.044503078338053455|0.001980523981562...|\n",
      "|    z|false| 0.12730328020698067|-0.12730328020698067|0.016206125151457036|\n",
      "|    z|false|  1.3451017084510097| -1.3451017084510097|  1.8092986060778251|\n",
      "|    z|false|  1.3501878997225267| -1.3501878997225267|  1.8230073645571279|\n",
      "|    z| true|  1.4786857374358966| -1.4786857374358966|  2.1865115100963415|\n",
      "+-----+-----+--------------------+--------------------+--------------------+\n",
      "\n"
     ]
    }
   ],
   "source": [
    "# D. \n",
    "df.sort('group', 'n').show()"
   ]
  },
  {
   "cell_type": "code",
   "execution_count": 53,
   "id": "3b97892f-2b59-48a0-bb86-5c99acc3a3eb",
   "metadata": {},
   "outputs": [
    {
     "name": "stdout",
     "output_type": "stream",
     "text": [
      "+-----+-----+--------------------+--------------------+--------------------+\n",
      "|group|abool|                   n|                  n2|                  n3|\n",
      "+-----+-----+--------------------+--------------------+--------------------+\n",
      "|    x|false| -0.7889890249515489|  0.7889890249515489|  0.6225036814939958|\n",
      "|    x|false| 0.31735092273633597|-0.31735092273633597| 0.10071160816160388|\n",
      "|    x|false|  0.6062886568962988| -0.6062886568962988|   0.367585935481118|\n",
      "|    x|false|   0.753766378659703|  -0.753766378659703|  0.5681637535977627|\n",
      "|    x|false|  0.8612113741693206| -0.8612113741693206|  0.7416850309986095|\n",
      "|    y|false|  -1.261605945319069|   1.261605945319069|   1.591649561264422|\n",
      "|    y|false| 0.45181233874578974|-0.45181233874578974| 0.20413438944294027|\n",
      "|    y|false|  0.5323378882945463| -0.5323378882945463|  0.2833836273138969|\n",
      "|    y|false|  0.9137407048596775| -0.9137407048596775|  0.8349220757174602|\n",
      "|    z|false|  -0.712390662050588|   0.712390662050588|   0.507500455376875|\n",
      "|    z|false|-0.04450307833805...|0.044503078338053455|0.001980523981562...|\n",
      "|    z|false| 0.12730328020698067|-0.12730328020698067|0.016206125151457036|\n",
      "|    z|false|  1.3451017084510097| -1.3451017084510097|  1.8092986060778251|\n",
      "|    z|false|  1.3501878997225267| -1.3501878997225267|  1.8230073645571279|\n",
      "|    x| true|-0.02677164998644...|0.026771649986440726|7.167212429964917E-4|\n",
      "|    y| true| -1.0453771305385342|  1.0453771305385342|  1.0928133450529796|\n",
      "|    y| true|-0.24332625188556253| 0.24332625188556253| 0.05920766485667622|\n",
      "|    y| true|  0.5628467852810314| -0.5628467852810314| 0.31679650370119145|\n",
      "|    y| true|  2.1503829673811126| -2.1503829673811126|   4.624146906402799|\n",
      "|    z| true|  1.4786857374358966| -1.4786857374358966|  2.1865115100963415|\n",
      "+-----+-----+--------------------+--------------------+--------------------+\n",
      "\n"
     ]
    }
   ],
   "source": [
    "# E. \n",
    "df.sort('abool', 'group', 'n').show()\n",
    "## Yes the order matters"
   ]
  },
  {
   "cell_type": "markdown",
   "id": "2050ef6f-467c-4b76-babf-04c97ce5abae",
   "metadata": {},
   "source": [
    "8. Aggregating\n",
    "\n",
    "    1. What is the average `n` value for each group in the `group` column?\n",
    "    1. What is the maximum `n` value for each group in the `group` column?\n",
    "    1. What is the minimum `n` value by `abool`?\n",
    "    1. What is the average `n` value for each unique combination of the `group`\n",
    "       and `abool` column?"
   ]
  },
  {
   "cell_type": "code",
   "execution_count": 54,
   "id": "73a77fd1-23cd-4e04-965b-4c90ac3a723a",
   "metadata": {},
   "outputs": [
    {
     "name": "stderr",
     "output_type": "stream",
     "text": [
      "[Stage 89:>                                                         (0 + 8) / 8]\r"
     ]
    },
    {
     "name": "stdout",
     "output_type": "stream",
     "text": [
      "+-----+------------------+\n",
      "|group|            avg(n)|\n",
      "+-----+------------------+\n",
      "|    x|0.2871427762539448|\n",
      "|    z| 0.590730814237962|\n",
      "|    y| 0.257601419602374|\n",
      "+-----+------------------+\n",
      "\n"
     ]
    },
    {
     "name": "stderr",
     "output_type": "stream",
     "text": [
      "                                                                                \r"
     ]
    }
   ],
   "source": [
    "# A. \n",
    "df.groupby('group').agg(mean('n')).show()"
   ]
  },
  {
   "cell_type": "code",
   "execution_count": 55,
   "id": "2849038a-d700-4419-a6ef-e6e7a27514c8",
   "metadata": {},
   "outputs": [
    {
     "name": "stderr",
     "output_type": "stream",
     "text": [
      "[Stage 92:>                                                         (0 + 8) / 8]\r"
     ]
    },
    {
     "name": "stdout",
     "output_type": "stream",
     "text": [
      "+-----+------------------+\n",
      "|group|            max(n)|\n",
      "+-----+------------------+\n",
      "|    x|0.8612113741693206|\n",
      "|    z|1.4786857374358966|\n",
      "|    y|2.1503829673811126|\n",
      "+-----+------------------+\n",
      "\n"
     ]
    },
    {
     "name": "stderr",
     "output_type": "stream",
     "text": [
      "                                                                                \r"
     ]
    }
   ],
   "source": [
    "# B. \n",
    "df.groupby('group').agg(max('n')).show()"
   ]
  },
  {
   "cell_type": "code",
   "execution_count": 56,
   "id": "5c66c044-1e68-42f5-802b-f35edb6b3b6a",
   "metadata": {},
   "outputs": [
    {
     "name": "stderr",
     "output_type": "stream",
     "text": [
      "[Stage 95:>                                                         (0 + 8) / 8]\r"
     ]
    },
    {
     "name": "stdout",
     "output_type": "stream",
     "text": [
      "+-----+-------------------+\n",
      "|abool|             min(n)|\n",
      "+-----+-------------------+\n",
      "|false| -1.261605945319069|\n",
      "| true|-1.0453771305385342|\n",
      "+-----+-------------------+\n",
      "\n"
     ]
    },
    {
     "name": "stderr",
     "output_type": "stream",
     "text": [
      "                                                                                \r"
     ]
    }
   ],
   "source": [
    "# C. \n",
    "df.groupby('abool').agg(min('n')).show()"
   ]
  },
  {
   "cell_type": "code",
   "execution_count": 57,
   "id": "9614353b-e215-4105-a5b7-b21f8e4e837a",
   "metadata": {},
   "outputs": [
    {
     "name": "stderr",
     "output_type": "stream",
     "text": [
      "[Stage 98:>                                                         (0 + 8) / 8]\r"
     ]
    },
    {
     "name": "stdout",
     "output_type": "stream",
     "text": [
      "+-----+-----+--------------------+\n",
      "|group|abool|              avg(n)|\n",
      "+-----+-----+--------------------+\n",
      "|    z|false| 0.41313982959837514|\n",
      "|    x|false|  0.3499256615020219|\n",
      "|    y|false| 0.15907124664523611|\n",
      "|    y| true| 0.35613159255951177|\n",
      "|    z| true|  1.4786857374358966|\n",
      "|    x| true|-0.02677164998644...|\n",
      "+-----+-----+--------------------+\n",
      "\n"
     ]
    },
    {
     "name": "stderr",
     "output_type": "stream",
     "text": [
      "                                                                                \r"
     ]
    }
   ],
   "source": [
    "# D. \n",
    "df.groupby('group', 'abool').agg(mean('n')).show()"
   ]
  },
  {
   "cell_type": "markdown",
   "id": "d647f198-4781-4cdb-9f40-5f1fe4ad0a4e",
   "metadata": {},
   "source": [
    "9. Spark SQL\n",
    "\n",
    "    1. Use the starter code above to re-create a spark dataframe.\n",
    "    1. Turn your dataframe into a table that can be queried with spark SQL. Name\n",
    "       the table `my_df`. Answer the rest of the questions in this section with\n",
    "       a spark sql query (`spark.sql`) against `my_df`. After each step, view\n",
    "       the first 7 records from the dataframe.\n",
    "    1. What happens if you make a SQL syntax error in your query?\n",
    "    1. Write a query that shows all of the columns from your dataframe.\n",
    "    1. Write a query that shows just the `n` and `abool` columns from the\n",
    "       dataframe.\n",
    "    1. Write a query that shows just the `n` and `group` columns. Rename the\n",
    "       `group` column to `g`.\n",
    "    1. Write a query that selects `n`, and creates two new columns: `n2`, the\n",
    "       original `n` values halved, and `n3`: the original n values minus 1."
   ]
  },
  {
   "cell_type": "code",
   "execution_count": 58,
   "id": "4d1366b9-4004-4b02-bc00-2c4c6f0de7af",
   "metadata": {},
   "outputs": [],
   "source": [
    "# B. \n",
    "df.createOrReplaceTempView('my_df')"
   ]
  },
  {
   "cell_type": "code",
   "execution_count": 66,
   "id": "7ecb6a0f-2645-4f1b-8aa0-41f6c04c4819",
   "metadata": {},
   "outputs": [
    {
     "ename": "AnalysisException",
     "evalue": "cannot resolve 'n' given input columns: []; line 1 pos 7;\n'Project ['n, 'n2n3, 'FROM AS my_df#834]\n+- OneRowRelation\n",
     "output_type": "error",
     "traceback": [
      "\u001b[0;31m---------------------------------------------------------------------------\u001b[0m",
      "\u001b[0;31mAnalysisException\u001b[0m                         Traceback (most recent call last)",
      "\u001b[0;32m/var/folders/fg/q99bqqm954n5m7n5b4xn7tyw0000gn/T/ipykernel_49606/220253249.py\u001b[0m in \u001b[0;36m<module>\u001b[0;34m\u001b[0m\n\u001b[1;32m      1\u001b[0m \u001b[0;31m# C.\u001b[0m\u001b[0;34m\u001b[0m\u001b[0;34m\u001b[0m\u001b[0m\n\u001b[0;32m----> 2\u001b[0;31m \u001b[0mspark\u001b[0m\u001b[0;34m.\u001b[0m\u001b[0msql\u001b[0m\u001b[0;34m(\u001b[0m\u001b[0;34m'''SELECT n, n2n3, FROM my_df'''\u001b[0m\u001b[0;34m)\u001b[0m\u001b[0;34m\u001b[0m\u001b[0;34m\u001b[0m\u001b[0m\n\u001b[0m",
      "\u001b[0;32m/opt/homebrew/anaconda3/lib/python3.9/site-packages/pyspark/sql/session.py\u001b[0m in \u001b[0;36msql\u001b[0;34m(self, sqlQuery)\u001b[0m\n\u001b[1;32m    721\u001b[0m         \u001b[0;34m[\u001b[0m\u001b[0mRow\u001b[0m\u001b[0;34m(\u001b[0m\u001b[0mf1\u001b[0m\u001b[0;34m=\u001b[0m\u001b[0;36m1\u001b[0m\u001b[0;34m,\u001b[0m \u001b[0mf2\u001b[0m\u001b[0;34m=\u001b[0m\u001b[0;34m'row1'\u001b[0m\u001b[0;34m)\u001b[0m\u001b[0;34m,\u001b[0m \u001b[0mRow\u001b[0m\u001b[0;34m(\u001b[0m\u001b[0mf1\u001b[0m\u001b[0;34m=\u001b[0m\u001b[0;36m2\u001b[0m\u001b[0;34m,\u001b[0m \u001b[0mf2\u001b[0m\u001b[0;34m=\u001b[0m\u001b[0;34m'row2'\u001b[0m\u001b[0;34m)\u001b[0m\u001b[0;34m,\u001b[0m \u001b[0mRow\u001b[0m\u001b[0;34m(\u001b[0m\u001b[0mf1\u001b[0m\u001b[0;34m=\u001b[0m\u001b[0;36m3\u001b[0m\u001b[0;34m,\u001b[0m \u001b[0mf2\u001b[0m\u001b[0;34m=\u001b[0m\u001b[0;34m'row3'\u001b[0m\u001b[0;34m)\u001b[0m\u001b[0;34m]\u001b[0m\u001b[0;34m\u001b[0m\u001b[0;34m\u001b[0m\u001b[0m\n\u001b[1;32m    722\u001b[0m         \"\"\"\n\u001b[0;32m--> 723\u001b[0;31m         \u001b[0;32mreturn\u001b[0m \u001b[0mDataFrame\u001b[0m\u001b[0;34m(\u001b[0m\u001b[0mself\u001b[0m\u001b[0;34m.\u001b[0m\u001b[0m_jsparkSession\u001b[0m\u001b[0;34m.\u001b[0m\u001b[0msql\u001b[0m\u001b[0;34m(\u001b[0m\u001b[0msqlQuery\u001b[0m\u001b[0;34m)\u001b[0m\u001b[0;34m,\u001b[0m \u001b[0mself\u001b[0m\u001b[0;34m.\u001b[0m\u001b[0m_wrapped\u001b[0m\u001b[0;34m)\u001b[0m\u001b[0;34m\u001b[0m\u001b[0;34m\u001b[0m\u001b[0m\n\u001b[0m\u001b[1;32m    724\u001b[0m \u001b[0;34m\u001b[0m\u001b[0m\n\u001b[1;32m    725\u001b[0m     \u001b[0;32mdef\u001b[0m \u001b[0mtable\u001b[0m\u001b[0;34m(\u001b[0m\u001b[0mself\u001b[0m\u001b[0;34m,\u001b[0m \u001b[0mtableName\u001b[0m\u001b[0;34m)\u001b[0m\u001b[0;34m:\u001b[0m\u001b[0;34m\u001b[0m\u001b[0;34m\u001b[0m\u001b[0m\n",
      "\u001b[0;32m/opt/homebrew/anaconda3/lib/python3.9/site-packages/py4j/java_gateway.py\u001b[0m in \u001b[0;36m__call__\u001b[0;34m(self, *args)\u001b[0m\n\u001b[1;32m   1319\u001b[0m \u001b[0;34m\u001b[0m\u001b[0m\n\u001b[1;32m   1320\u001b[0m         \u001b[0manswer\u001b[0m \u001b[0;34m=\u001b[0m \u001b[0mself\u001b[0m\u001b[0;34m.\u001b[0m\u001b[0mgateway_client\u001b[0m\u001b[0;34m.\u001b[0m\u001b[0msend_command\u001b[0m\u001b[0;34m(\u001b[0m\u001b[0mcommand\u001b[0m\u001b[0;34m)\u001b[0m\u001b[0;34m\u001b[0m\u001b[0;34m\u001b[0m\u001b[0m\n\u001b[0;32m-> 1321\u001b[0;31m         return_value = get_return_value(\n\u001b[0m\u001b[1;32m   1322\u001b[0m             answer, self.gateway_client, self.target_id, self.name)\n\u001b[1;32m   1323\u001b[0m \u001b[0;34m\u001b[0m\u001b[0m\n",
      "\u001b[0;32m/opt/homebrew/anaconda3/lib/python3.9/site-packages/pyspark/sql/utils.py\u001b[0m in \u001b[0;36mdeco\u001b[0;34m(*a, **kw)\u001b[0m\n\u001b[1;32m    115\u001b[0m                 \u001b[0;31m# Hide where the exception came from that shows a non-Pythonic\u001b[0m\u001b[0;34m\u001b[0m\u001b[0;34m\u001b[0m\u001b[0m\n\u001b[1;32m    116\u001b[0m                 \u001b[0;31m# JVM exception message.\u001b[0m\u001b[0;34m\u001b[0m\u001b[0;34m\u001b[0m\u001b[0m\n\u001b[0;32m--> 117\u001b[0;31m                 \u001b[0;32mraise\u001b[0m \u001b[0mconverted\u001b[0m \u001b[0;32mfrom\u001b[0m \u001b[0;32mNone\u001b[0m\u001b[0;34m\u001b[0m\u001b[0;34m\u001b[0m\u001b[0m\n\u001b[0m\u001b[1;32m    118\u001b[0m             \u001b[0;32melse\u001b[0m\u001b[0;34m:\u001b[0m\u001b[0;34m\u001b[0m\u001b[0;34m\u001b[0m\u001b[0m\n\u001b[1;32m    119\u001b[0m                 \u001b[0;32mraise\u001b[0m\u001b[0;34m\u001b[0m\u001b[0;34m\u001b[0m\u001b[0m\n",
      "\u001b[0;31mAnalysisException\u001b[0m: cannot resolve 'n' given input columns: []; line 1 pos 7;\n'Project ['n, 'n2n3, 'FROM AS my_df#834]\n+- OneRowRelation\n"
     ]
    }
   ],
   "source": [
    "# C. \n",
    "spark.sql('''SELECT n, n2n3, FROM my_df''')"
   ]
  },
  {
   "cell_type": "code",
   "execution_count": 67,
   "id": "c6383efd-88f2-4852-a309-da3eeb0cdf34",
   "metadata": {},
   "outputs": [
    {
     "name": "stdout",
     "output_type": "stream",
     "text": [
      "+-----+-----+--------------------+--------------------+--------------------+\n",
      "|group|abool|                   n|                  n2|                  n3|\n",
      "+-----+-----+--------------------+--------------------+--------------------+\n",
      "|    z|false|  -0.712390662050588|   0.712390662050588|   0.507500455376875|\n",
      "|    x|false|   0.753766378659703|  -0.753766378659703|  0.5681637535977627|\n",
      "|    z|false|-0.04450307833805...|0.044503078338053455|0.001980523981562...|\n",
      "|    y|false| 0.45181233874578974|-0.45181233874578974| 0.20413438944294027|\n",
      "|    z|false|  1.3451017084510097| -1.3451017084510097|  1.8092986060778251|\n",
      "|    y|false|  0.5323378882945463| -0.5323378882945463|  0.2833836273138969|\n",
      "|    z|false|  1.3501878997225267| -1.3501878997225267|  1.8230073645571279|\n",
      "+-----+-----+--------------------+--------------------+--------------------+\n",
      "only showing top 7 rows\n",
      "\n"
     ]
    }
   ],
   "source": [
    "# D. \n",
    "spark.sql('''SELECT * FROM my_df''').show(7)"
   ]
  },
  {
   "cell_type": "code",
   "execution_count": 68,
   "id": "ae21d64c-085f-4848-952f-e66ee135742e",
   "metadata": {},
   "outputs": [
    {
     "name": "stdout",
     "output_type": "stream",
     "text": [
      "+--------------------+-----+\n",
      "|                   n|abool|\n",
      "+--------------------+-----+\n",
      "|  -0.712390662050588|false|\n",
      "|   0.753766378659703|false|\n",
      "|-0.04450307833805...|false|\n",
      "| 0.45181233874578974|false|\n",
      "|  1.3451017084510097|false|\n",
      "|  0.5323378882945463|false|\n",
      "|  1.3501878997225267|false|\n",
      "+--------------------+-----+\n",
      "only showing top 7 rows\n",
      "\n"
     ]
    }
   ],
   "source": [
    "# E. \n",
    "spark.sql('''SELECT n, abool FROM my_df''').show(7)"
   ]
  },
  {
   "cell_type": "code",
   "execution_count": 69,
   "id": "c4cb91c0-8842-461c-9250-3e4181679bda",
   "metadata": {},
   "outputs": [
    {
     "name": "stdout",
     "output_type": "stream",
     "text": [
      "+--------------------+---+\n",
      "|                   n|  g|\n",
      "+--------------------+---+\n",
      "|  -0.712390662050588|  z|\n",
      "|   0.753766378659703|  x|\n",
      "|-0.04450307833805...|  z|\n",
      "| 0.45181233874578974|  y|\n",
      "|  1.3451017084510097|  z|\n",
      "|  0.5323378882945463|  y|\n",
      "|  1.3501878997225267|  z|\n",
      "+--------------------+---+\n",
      "only showing top 7 rows\n",
      "\n"
     ]
    }
   ],
   "source": [
    "# F.\n",
    "spark.sql('''SELECT n, group as g FROM my_df''').show(7)"
   ]
  },
  {
   "cell_type": "code",
   "execution_count": 70,
   "id": "2b8f1465-acc6-4c2e-92e7-88f2adffd831",
   "metadata": {},
   "outputs": [
    {
     "name": "stdout",
     "output_type": "stream",
     "text": [
      "+--------------------+--------------------+--------------------+\n",
      "|                   n|                  n2|                  n3|\n",
      "+--------------------+--------------------+--------------------+\n",
      "|  -0.712390662050588|  -0.356195331025294|  -1.712390662050588|\n",
      "|   0.753766378659703|  0.3768831893298515|-0.24623362134029703|\n",
      "|-0.04450307833805...|-0.02225153916902...| -1.0445030783380536|\n",
      "| 0.45181233874578974| 0.22590616937289487| -0.5481876612542103|\n",
      "|  1.3451017084510097|  0.6725508542255049| 0.34510170845100974|\n",
      "|  0.5323378882945463| 0.26616894414727316| -0.4676621117054537|\n",
      "|  1.3501878997225267|  0.6750939498612634| 0.35018789972252673|\n",
      "+--------------------+--------------------+--------------------+\n",
      "only showing top 7 rows\n",
      "\n"
     ]
    }
   ],
   "source": [
    "# G. \n",
    "spark.sql('''SELECT n, \n",
    "                    n / 2 as n2,\n",
    "                    n - 1 as n3\n",
    "                FROM my_df'''\n",
    "         ).show(7)"
   ]
  }
 ],
 "metadata": {
  "kernelspec": {
   "display_name": "Python 3.9.7 64-bit ('base': conda)",
   "language": "python",
   "name": "python397jvsc74a57bd038cca0c38332a56087b24af0bc80247f4fced29cb4f7f437d91dc159adec9c4e"
  },
  "language_info": {
   "codemirror_mode": {
    "name": "ipython",
    "version": 3
   },
   "file_extension": ".py",
   "mimetype": "text/x-python",
   "name": "python",
   "nbconvert_exporter": "python",
   "pygments_lexer": "ipython3",
   "version": "3.9.7"
  }
 },
 "nbformat": 4,
 "nbformat_minor": 5
}
