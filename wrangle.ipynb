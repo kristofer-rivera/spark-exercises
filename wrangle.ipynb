{
 "cells": [
  {
   "cell_type": "code",
   "execution_count": 2,
   "id": "9c1fb7a0-0cd8-451c-8e3b-6b7022ad20a8",
   "metadata": {},
   "outputs": [],
   "source": [
    "from pyspark.sql import SparkSession\n",
    "from pyspark.sql.functions import *\n",
    "\n",
    "import numpy as np\n",
    "import pandas as pd\n",
    "\n",
    "spark = SparkSession.builder.getOrCreate()"
   ]
  },
  {
   "cell_type": "markdown",
   "id": "09413371-bf4f-4cd3-a410-f83709c607a9",
   "metadata": {},
   "source": [
    "## Data Acquisition\n",
    "\n",
    "*This exercises uses the case.csv, dept.csv, and source.csv files from the san antonio 311 call dataset.*\n",
    "\n",
    "### Part I\n",
    "\n",
    "**1. Read the case, department, and source data into their own spark dataframes.**"
   ]
  },
  {
   "cell_type": "code",
   "execution_count": 4,
   "id": "c0b58c8b-1101-4873-b587-28bf4eaaae37",
   "metadata": {},
   "outputs": [
    {
     "name": "stderr",
     "output_type": "stream",
     "text": [
      "                                                                                \r"
     ]
    }
   ],
   "source": [
    "case = spark.read.csv('case.csv', \n",
    "                       sep=',', \n",
    "                       header=True, \n",
    "                       inferSchema=True)\n",
    "\n",
    "dept = spark.read.csv('dept.csv', \n",
    "                       sep=',', \n",
    "                       header=True, \n",
    "                       inferSchema=True)\n",
    "\n",
    "source = spark.read.csv('source.csv', \n",
    "                         sep=',', \n",
    "                         header=True,\n",
    "                         inferSchema=True)"
   ]
  },
  {
   "cell_type": "markdown",
   "id": "99e07c15-b5d1-45f3-aa41-9b26894b7bf6",
   "metadata": {},
   "source": [
    "**2. Let's see how writing to the local disk works in spark:**\n",
    "\n",
    "- Write the code necessary to store the source data in both csv and json format, store these as sources_csv and sources_json\n",
    "- Inspect your folder structure. What do you notice?"
   ]
  },
  {
   "cell_type": "code",
   "execution_count": 6,
   "id": "0d563b43-ee5b-4599-be11-6be825a4124c",
   "metadata": {},
   "outputs": [],
   "source": [
    "#write to json\n",
    "source.write.json('source_json')\n",
    "#write to csv\n",
    "source.write.csv('source_csv')"
   ]
  },
  {
   "cell_type": "markdown",
   "id": "2e105bb2-ec30-4026-bfde-492fabff6069",
   "metadata": {},
   "source": [
    "*After inspecting,I notice that source_json and source_csv where stored as directories and not as files.*\n",
    "\n",
    "**3. Inspect the data in your dataframes. Are the data types appropriate? Write the code necessary to cast the values to the appropriate types.**"
   ]
  },
  {
   "cell_type": "code",
   "execution_count": 10,
   "id": "83314e85-6189-48d2-9020-9d8560364a8d",
   "metadata": {},
   "outputs": [
    {
     "data": {
      "text/plain": [
       "[('case_id', 'int'),\n",
       " ('case_opened_date', 'string'),\n",
       " ('case_closed_date', 'string'),\n",
       " ('SLA_due_date', 'string'),\n",
       " ('case_late', 'string'),\n",
       " ('num_days_late', 'double'),\n",
       " ('case_closed', 'string'),\n",
       " ('dept_division', 'string'),\n",
       " ('service_request_type', 'string'),\n",
       " ('SLA_days', 'double'),\n",
       " ('case_status', 'string'),\n",
       " ('source_id', 'string'),\n",
       " ('request_address', 'string'),\n",
       " ('council_district', 'int')]"
      ]
     },
     "execution_count": 10,
     "metadata": {},
     "output_type": "execute_result"
    }
   ],
   "source": [
    "# start with case\n",
    "case.dtypes"
   ]
  },
  {
   "cell_type": "code",
   "execution_count": 13,
   "id": "89178d00-6c04-4631-a5b9-c0715c0650f0",
   "metadata": {},
   "outputs": [
    {
     "name": "stdout",
     "output_type": "stream",
     "text": [
      "-RECORD 0------------------------------------\n",
      " case_id              | 1014127332           \n",
      " case_opened_date     | 1/1/18 0:42          \n",
      " case_closed_date     | 1/1/18 12:29         \n",
      " SLA_due_date         | 9/26/20 0:42         \n",
      " case_late            | NO                   \n",
      " num_days_late        | -998.5087616000001   \n",
      " case_closed          | YES                  \n",
      " dept_division        | Field Operations     \n",
      " service_request_type | Stray Animal         \n",
      " SLA_days             | 999.0                \n",
      " case_status          | Closed               \n",
      " source_id            | svcCRMLS             \n",
      " request_address      | 2315  EL PASO ST,... \n",
      " council_district     | 5                    \n",
      "-RECORD 1------------------------------------\n",
      " case_id              | 1014127333           \n",
      " case_opened_date     | 1/1/18 0:46          \n",
      " case_closed_date     | 1/3/18 8:11          \n",
      " SLA_due_date         | 1/5/18 8:30          \n",
      " case_late            | NO                   \n",
      " num_days_late        | -2.0126041669999997  \n",
      " case_closed          | YES                  \n",
      " dept_division        | Storm Water          \n",
      " service_request_type | Removal Of Obstru... \n",
      " SLA_days             | 4.322222222          \n",
      " case_status          | Closed               \n",
      " source_id            | svcCRMSS             \n",
      " request_address      | 2215  GOLIAD RD, ... \n",
      " council_district     | 3                    \n",
      "-RECORD 2------------------------------------\n",
      " case_id              | 1014127334           \n",
      " case_opened_date     | 1/1/18 0:48          \n",
      " case_closed_date     | 1/2/18 7:57          \n",
      " SLA_due_date         | 1/5/18 8:30          \n",
      " case_late            | NO                   \n",
      " num_days_late        | -3.022337963         \n",
      " case_closed          | YES                  \n",
      " dept_division        | Storm Water          \n",
      " service_request_type | Removal Of Obstru... \n",
      " SLA_days             | 4.320729167          \n",
      " case_status          | Closed               \n",
      " source_id            | svcCRMSS             \n",
      " request_address      | 102  PALFREY ST W... \n",
      " council_district     | 3                    \n",
      "only showing top 3 rows\n",
      "\n"
     ]
    }
   ],
   "source": [
    "case.show(3, vertical=True)"
   ]
  },
  {
   "cell_type": "code",
   "execution_count": 16,
   "id": "03adce03-c955-4246-aac4-0a5644215f6b",
   "metadata": {},
   "outputs": [
    {
     "data": {
      "text/plain": [
       "[('case_id', 'string'),\n",
       " ('case_opened_date', 'timestamp'),\n",
       " ('case_closed_date', 'timestamp'),\n",
       " ('case_due_date', 'timestamp'),\n",
       " ('case_late', 'boolean'),\n",
       " ('num_days_late', 'double'),\n",
       " ('case_closed', 'boolean'),\n",
       " ('dept_division', 'string'),\n",
       " ('service_request_type', 'string'),\n",
       " ('SLA_days', 'double'),\n",
       " ('case_status', 'string'),\n",
       " ('source_id', 'string'),\n",
       " ('request_address', 'string'),\n",
       " ('council_district', 'string'),\n",
       " ('case_age', 'int'),\n",
       " ('days_to_closed', 'int'),\n",
       " ('case_lifetime', 'int')]"
      ]
     },
     "execution_count": 16,
     "metadata": {},
     "output_type": "execute_result"
    }
   ],
   "source": [
    "# I need to change several data types including converting the date time\n",
    "fmt = 'M/d/yy H:mm'\n",
    "\n",
    "case = (\n",
    "    case.withColumn('case_id', case.case_id.cast('string'))\n",
    "        .withColumn('case_opened_date', to_timestamp('case_opened_date', fmt))\n",
    "        .withColumn('case_closed_date', to_timestamp('case_closed_date', fmt))\n",
    "        .withColumnRenamed('SLA_due_date', 'case_due_date')\n",
    "        .withColumn('case_due_date', to_timestamp('case_due_date', fmt))\n",
    "        .withColumn('case_closed', expr('case_closed == \"YES\"'))\n",
    "        .withColumn('case_late', expr('case_late == \"YES\"'))\n",
    "        .withColumn('council_district', case.council_district.cast('string'))\n",
    "        .withColumn('case_age', datediff(current_timestamp(), 'case_opened_date'))\n",
    "        .withColumn('days_to_closed', datediff('case_closed_date', 'case_opened_date'))\n",
    "        .withColumn('case_lifetime', when(expr('! case_closed'), col('case_age'))\n",
    "                                      .otherwise(col('days_to_closed')))\n",
    ")  \n",
    "case.dtypes"
   ]
  },
  {
   "cell_type": "code",
   "execution_count": 17,
   "id": "90968f84-0150-4016-81c1-4ed7b9d9ca79",
   "metadata": {},
   "outputs": [
    {
     "data": {
      "text/plain": [
       "[('source_id', 'string'), ('source_username', 'string')]"
      ]
     },
     "execution_count": 17,
     "metadata": {},
     "output_type": "execute_result"
    }
   ],
   "source": [
    "# next source\n",
    "source.dtypes"
   ]
  },
  {
   "cell_type": "code",
   "execution_count": 18,
   "id": "330304e8-92a0-4df6-8e82-7b544fd29ed9",
   "metadata": {},
   "outputs": [
    {
     "name": "stdout",
     "output_type": "stream",
     "text": [
      "+---------+----------------+\n",
      "|source_id| source_username|\n",
      "+---------+----------------+\n",
      "|   100137|Merlene Blodgett|\n",
      "|   103582|     Carmen Cura|\n",
      "|   106463| Richard Sanchez|\n",
      "|   119403|  Betty De Hoyos|\n",
      "|   119555|  Socorro Quiara|\n",
      "+---------+----------------+\n",
      "only showing top 5 rows\n",
      "\n"
     ]
    }
   ],
   "source": [
    "source.show(5) "
   ]
  },
  {
   "cell_type": "markdown",
   "id": "d7ae2d99-32d5-412e-9b1e-72d17f5118d9",
   "metadata": {},
   "source": [
    "*This seems like the appropriate dtypes*"
   ]
  },
  {
   "cell_type": "code",
   "execution_count": 19,
   "id": "de96862e-16cc-4413-9f1f-196c552d5f33",
   "metadata": {},
   "outputs": [
    {
     "data": {
      "text/plain": [
       "[('dept_division', 'string'),\n",
       " ('dept_name', 'string'),\n",
       " ('standardized_dept_name', 'string'),\n",
       " ('dept_subject_to_SLA', 'string')]"
      ]
     },
     "execution_count": 19,
     "metadata": {},
     "output_type": "execute_result"
    }
   ],
   "source": [
    "# Last, dept\n",
    "dept.dtypes"
   ]
  },
  {
   "cell_type": "code",
   "execution_count": 20,
   "id": "fecd0b7a-e74a-4eda-ad57-a6c603eee3fa",
   "metadata": {},
   "outputs": [
    {
     "name": "stdout",
     "output_type": "stream",
     "text": [
      "+--------------------+--------------------+----------------------+-------------------+\n",
      "|       dept_division|           dept_name|standardized_dept_name|dept_subject_to_SLA|\n",
      "+--------------------+--------------------+----------------------+-------------------+\n",
      "|     311 Call Center|    Customer Service|      Customer Service|                YES|\n",
      "|               Brush|Solid Waste Manag...|           Solid Waste|                YES|\n",
      "|     Clean and Green|Parks and Recreation|    Parks & Recreation|                YES|\n",
      "|Clean and Green N...|Parks and Recreation|    Parks & Recreation|                YES|\n",
      "|    Code Enforcement|Code Enforcement ...|  DSD/Code Enforcement|                YES|\n",
      "+--------------------+--------------------+----------------------+-------------------+\n",
      "only showing top 5 rows\n",
      "\n"
     ]
    }
   ],
   "source": [
    "dept.show(5)"
   ]
  },
  {
   "cell_type": "markdown",
   "id": "6e515f34-9761-4903-aa31-2350b77f3fce",
   "metadata": {},
   "source": [
    "*All seem like appropriate data types but I'll change dept_subject_to_SLA to a boolean value instead of YES, NO.*"
   ]
  },
  {
   "cell_type": "code",
   "execution_count": 21,
   "id": "b1faa640-abe3-4884-ad88-0d4df92f23be",
   "metadata": {},
   "outputs": [
    {
     "name": "stdout",
     "output_type": "stream",
     "text": [
      "+--------------------+--------------------+----------------------+-------------------+\n",
      "|       dept_division|           dept_name|standardized_dept_name|dept_subject_to_SLA|\n",
      "+--------------------+--------------------+----------------------+-------------------+\n",
      "|     311 Call Center|    Customer Service|      Customer Service|               true|\n",
      "|               Brush|Solid Waste Manag...|           Solid Waste|               true|\n",
      "|     Clean and Green|Parks and Recreation|    Parks & Recreation|               true|\n",
      "|Clean and Green N...|Parks and Recreation|    Parks & Recreation|               true|\n",
      "|    Code Enforcement|Code Enforcement ...|  DSD/Code Enforcement|               true|\n",
      "+--------------------+--------------------+----------------------+-------------------+\n",
      "only showing top 5 rows\n",
      "\n"
     ]
    }
   ],
   "source": [
    "# converting string to boolean value\n",
    "dept = dept.withColumn('dept_subject_to_SLA', expr('dept_subject_to_SLA == \"YES\"'))\n",
    "\n",
    "dept.show(5)"
   ]
  },
  {
   "cell_type": "markdown",
   "id": "85556b0d-02a9-4241-a19d-306e2d31c20f",
   "metadata": {},
   "source": [
    "### Part II\n",
    "\n",
    "**1. How old is the latest (in terms of days past SLA) currently open issue? How long has the oldest (in terms of days since opened) currently opened issue been open?**"
   ]
  },
  {
   "cell_type": "code",
   "execution_count": 24,
   "id": "c9220ebe-bae9-469c-b0f6-708ad2fc5ea0",
   "metadata": {},
   "outputs": [
    {
     "name": "stderr",
     "output_type": "stream",
     "text": [
      "[Stage 17:>                                                         (0 + 8) / 8]\r"
     ]
    },
    {
     "name": "stdout",
     "output_type": "stream",
     "text": [
      "+-------------+\n",
      "|max(case_age)|\n",
      "+-------------+\n",
      "|         1968|\n",
      "+-------------+\n",
      "\n"
     ]
    },
    {
     "name": "stderr",
     "output_type": "stream",
     "text": [
      "                                                                                \r"
     ]
    }
   ],
   "source": [
    "case.select(max('case_age')).show()"
   ]
  },
  {
   "cell_type": "markdown",
   "id": "c748839a-5710-4597-a968-434e2b843632",
   "metadata": {},
   "source": [
    "**2. How many Stray Animal cases are there?**"
   ]
  },
  {
   "cell_type": "code",
   "execution_count": 25,
   "id": "17403586-66b8-45f9-ad5f-c5d99423751e",
   "metadata": {},
   "outputs": [
    {
     "name": "stderr",
     "output_type": "stream",
     "text": [
      "                                                                                \r"
     ]
    },
    {
     "data": {
      "text/plain": [
       "26760"
      ]
     },
     "execution_count": 25,
     "metadata": {},
     "output_type": "execute_result"
    }
   ],
   "source": [
    "case.filter(col('service_request_type') == 'Stray Animal').count()"
   ]
  },
  {
   "cell_type": "markdown",
   "id": "5b065323-09ae-4331-87a6-1c01723bbfc1",
   "metadata": {},
   "source": [
    "**3. How many service requests that are assigned to the Field Operations department (dept_division) are not classified as \"Officer Standby\" request type (service_request_type)?**"
   ]
  },
  {
   "cell_type": "code",
   "execution_count": 26,
   "id": "b7cf44e1-2487-4726-b62c-668a706d9882",
   "metadata": {},
   "outputs": [
    {
     "name": "stderr",
     "output_type": "stream",
     "text": [
      "                                                                                \r"
     ]
    },
    {
     "data": {
      "text/plain": [
       "113902"
      ]
     },
     "execution_count": 26,
     "metadata": {},
     "output_type": "execute_result"
    }
   ],
   "source": [
    "field_operations = case.filter(col('dept_division') == 'Field Operations')\n",
    "field_operations.filter(col('service_request_type') != 'Officer Standby').count()"
   ]
  },
  {
   "cell_type": "markdown",
   "id": "c3c61fb8-0d0b-47f2-84c8-4f33b6af6fec",
   "metadata": {},
   "source": [
    "**4. Convert the council_district column to a string column.**"
   ]
  },
  {
   "cell_type": "code",
   "execution_count": 27,
   "id": "23630dc1-d62d-46ca-8383-e64b4e9c0ab0",
   "metadata": {},
   "outputs": [],
   "source": [
    "case = case.withColumn('council_district', col('council_district').cast('string'))"
   ]
  },
  {
   "cell_type": "code",
   "execution_count": 28,
   "id": "34f563bb-8d3b-4ce2-acad-e9423db4a8dd",
   "metadata": {},
   "outputs": [
    {
     "data": {
      "text/plain": [
       "[('case_id', 'string'),\n",
       " ('case_opened_date', 'timestamp'),\n",
       " ('case_closed_date', 'timestamp'),\n",
       " ('case_due_date', 'timestamp'),\n",
       " ('case_late', 'boolean'),\n",
       " ('num_days_late', 'double'),\n",
       " ('case_closed', 'boolean'),\n",
       " ('dept_division', 'string'),\n",
       " ('service_request_type', 'string'),\n",
       " ('SLA_days', 'double'),\n",
       " ('case_status', 'string'),\n",
       " ('source_id', 'string'),\n",
       " ('request_address', 'string'),\n",
       " ('council_district', 'string'),\n",
       " ('case_age', 'int'),\n",
       " ('days_to_closed', 'int'),\n",
       " ('case_lifetime', 'int')]"
      ]
     },
     "execution_count": 28,
     "metadata": {},
     "output_type": "execute_result"
    }
   ],
   "source": [
    "#sanity check\n",
    "case.dtypes"
   ]
  },
  {
   "cell_type": "markdown",
   "id": "e650c6fd-85ed-43d4-a6ee-a083b2a2e22e",
   "metadata": {},
   "source": [
    "**5. Extract the year from the case_closed_date column.**"
   ]
  },
  {
   "cell_type": "code",
   "execution_count": 29,
   "id": "f6b8c92d-81ed-4004-aa92-99cd030292c2",
   "metadata": {},
   "outputs": [
    {
     "name": "stdout",
     "output_type": "stream",
     "text": [
      "-RECORD 0----------------------------------------------------\n",
      " case_id              | 1014127332                           \n",
      " case_opened_date     | 2018-01-01 00:42:00                  \n",
      " case_closed_date     | 2018-01-01 12:29:00                  \n",
      " case_due_date        | 2020-09-26 00:42:00                  \n",
      " case_late            | false                                \n",
      " num_days_late        | -998.5087616000001                   \n",
      " case_closed          | true                                 \n",
      " dept_division        | Field Operations                     \n",
      " service_request_type | Stray Animal                         \n",
      " SLA_days             | 999.0                                \n",
      " case_status          | Closed                               \n",
      " source_id            | svcCRMLS                             \n",
      " request_address      | 2315  EL PASO ST, San Antonio, 78207 \n",
      " council_district     | 5                                    \n",
      " case_age             | 1603                                 \n",
      " days_to_closed       | 0                                    \n",
      " case_lifetime        | 0                                    \n",
      " case_closed_year     | 2018                                 \n",
      "-RECORD 1----------------------------------------------------\n",
      " case_id              | 1014127333                           \n",
      " case_opened_date     | 2018-01-01 00:46:00                  \n",
      " case_closed_date     | 2018-01-03 08:11:00                  \n",
      " case_due_date        | 2018-01-05 08:30:00                  \n",
      " case_late            | false                                \n",
      " num_days_late        | -2.0126041669999997                  \n",
      " case_closed          | true                                 \n",
      " dept_division        | Storm Water                          \n",
      " service_request_type | Removal Of Obstruction               \n",
      " SLA_days             | 4.322222222                          \n",
      " case_status          | Closed                               \n",
      " source_id            | svcCRMSS                             \n",
      " request_address      | 2215  GOLIAD RD, San Antonio, 78223  \n",
      " council_district     | 3                                    \n",
      " case_age             | 1603                                 \n",
      " days_to_closed       | 2                                    \n",
      " case_lifetime        | 2                                    \n",
      " case_closed_year     | 2018                                 \n",
      "only showing top 2 rows\n",
      "\n"
     ]
    }
   ],
   "source": [
    "case = case.withColumn(\"case_closed_year\", year(\"case_closed_date\"))\n",
    "\n",
    "case.show(2, False, True)"
   ]
  },
  {
   "cell_type": "markdown",
   "id": "bcd62153-cc75-4a22-88b1-dbe42391dfd0",
   "metadata": {},
   "source": [
    "**6. Convert num_days_late from days to hours in new columns num_hours_late.**"
   ]
  },
  {
   "cell_type": "code",
   "execution_count": 30,
   "id": "e9fcd50a-982f-4fa7-882b-bdffb6ac84da",
   "metadata": {},
   "outputs": [
    {
     "name": "stdout",
     "output_type": "stream",
     "text": [
      "+-------------------+-------------------+\n",
      "|      num_days_late|     num_hours_late|\n",
      "+-------------------+-------------------+\n",
      "| -998.5087616000001|     -23964.2102784|\n",
      "|-2.0126041669999997|-48.302500007999996|\n",
      "|       -3.022337963|      -72.536111112|\n",
      "|       -15.01148148|      -360.27555552|\n",
      "|0.37216435200000003|  8.931944448000001|\n",
      "+-------------------+-------------------+\n",
      "only showing top 5 rows\n",
      "\n"
     ]
    }
   ],
   "source": [
    "case = case.withColumn('num_hours_late', expr('num_days_late*24'))\n",
    "\n",
    "case.select(\"num_days_late\", \"num_hours_late\").show(5)"
   ]
  },
  {
   "cell_type": "markdown",
   "id": "26e04326-44a5-4958-9318-1cd5beca70e7",
   "metadata": {},
   "source": [
    "**7. Join the case data with the source and department data.**"
   ]
  },
  {
   "cell_type": "code",
   "execution_count": 35,
   "id": "6a2e049f-6a06-462b-a02e-65cd11363207",
   "metadata": {},
   "outputs": [],
   "source": [
    "df = (\n",
    "    case.join(source, on='source_id', how='left')\n",
    "        .join(dept, on='dept_division', how='left')\n",
    "        .drop('dept_name')\n",
    "        .withColumnRenamed('standardized_dept_name', 'department')\n",
    "        .withColumn('dept_subject_to_SLA', (col('dept_subject_to_SLA') == 'true'))\n",
    ")"
   ]
  },
  {
   "cell_type": "code",
   "execution_count": 36,
   "id": "6bf71242-0a56-4772-8a05-c2027de86f4b",
   "metadata": {},
   "outputs": [
    {
     "name": "stdout",
     "output_type": "stream",
     "text": [
      "-RECORD 0------------------------------------\n",
      " dept_division        | Field Operations     \n",
      " source_id            | svcCRMLS             \n",
      " case_id              | 1014127332           \n",
      " case_opened_date     | 2018-01-01 00:42:00  \n",
      " case_closed_date     | 2018-01-01 12:29:00  \n",
      " case_due_date        | 2020-09-26 00:42:00  \n",
      " case_late            | false                \n",
      " num_days_late        | -998.5087616000001   \n",
      " case_closed          | true                 \n",
      " service_request_type | Stray Animal         \n",
      " SLA_days             | 999.0                \n",
      " case_status          | Closed               \n",
      " request_address      | 2315  EL PASO ST,... \n",
      " council_district     | 5                    \n",
      " case_age             | 1603                 \n",
      " days_to_closed       | 0                    \n",
      " case_lifetime        | 0                    \n",
      " case_closed_year     | 2018                 \n",
      " num_hours_late       | -23964.2102784       \n",
      " source_username      | svcCRMLS             \n",
      " department           | Animal Care Services \n",
      " dept_subject_to_SLA  | true                 \n",
      "only showing top 1 row\n",
      "\n"
     ]
    }
   ],
   "source": [
    "df.show(1, vertical=True)"
   ]
  },
  {
   "cell_type": "markdown",
   "id": "11939512-464c-4b67-bfb2-f224f5988c6d",
   "metadata": {},
   "source": [
    "**8. Are there any cases that do not have a request source?**"
   ]
  },
  {
   "cell_type": "code",
   "execution_count": 39,
   "id": "b105e983-5500-4906-bd61-7a9507e716da",
   "metadata": {},
   "outputs": [
    {
     "name": "stderr",
     "output_type": "stream",
     "text": [
      "                                                                                \r"
     ]
    },
    {
     "data": {
      "text/plain": [
       "0"
      ]
     },
     "execution_count": 39,
     "metadata": {},
     "output_type": "execute_result"
    }
   ],
   "source": [
    "df.filter(col('source_id').isNull() | isnan('source_id') | (col('source_id') == '')).count()"
   ]
  },
  {
   "cell_type": "markdown",
   "id": "d9c29c85-f38b-4377-9ec6-405633294837",
   "metadata": {},
   "source": [
    "**9. What are the top 10 service request types in terms of number of requests?**"
   ]
  },
  {
   "cell_type": "code",
   "execution_count": 40,
   "id": "138977f0-de08-4287-9535-866708a759e6",
   "metadata": {},
   "outputs": [
    {
     "name": "stderr",
     "output_type": "stream",
     "text": [
      "[Stage 49:==========================================================(8 + 0) / 8]\r"
     ]
    },
    {
     "name": "stdout",
     "output_type": "stream",
     "text": [
      "+--------------------------------+-----+\n",
      "|service_request_type            |count|\n",
      "+--------------------------------+-----+\n",
      "|No Pickup                       |89210|\n",
      "|Overgrown Yard/Trash            |66403|\n",
      "|Bandit Signs                    |32968|\n",
      "|Damaged Cart                    |31163|\n",
      "|Front Or Side Yard Parking      |28920|\n",
      "|Stray Animal                    |27361|\n",
      "|Aggressive Animal(Non-Critical) |25492|\n",
      "|Cart Exchange Request           |22608|\n",
      "|Junk Vehicle On Private Property|21649|\n",
      "|Pot Hole Repair                 |20827|\n",
      "+--------------------------------+-----+\n",
      "only showing top 10 rows\n",
      "\n"
     ]
    },
    {
     "name": "stderr",
     "output_type": "stream",
     "text": [
      "                                                                                \r"
     ]
    }
   ],
   "source": [
    "(df.groupby('service_request_type')\n",
    "      .count()\n",
    "      .sort(col('count').desc())\n",
    "      .show(10, truncate=False)\n",
    ")"
   ]
  },
  {
   "cell_type": "markdown",
   "id": "f69293b3-fae7-432a-bd2d-f11ccfc96b0f",
   "metadata": {},
   "source": [
    "**10. What are the top 10 service request types in terms of average days late?**"
   ]
  },
  {
   "cell_type": "code",
   "execution_count": 41,
   "id": "e37413e2-f01f-4954-a90b-0041a291c775",
   "metadata": {},
   "outputs": [
    {
     "name": "stderr",
     "output_type": "stream",
     "text": [
      "[Stage 54:==================================================>       (7 + 1) / 8]\r"
     ]
    },
    {
     "name": "stdout",
     "output_type": "stream",
     "text": [
      "+--------------------------------------+------------------+\n",
      "|service_request_type                  |avg(num_days_late)|\n",
      "+--------------------------------------+------------------+\n",
      "|Zoning: Junk Yards                    |175.95636210420943|\n",
      "|Labeling for Used Mattress            |162.43032902285717|\n",
      "|Record Keeping of Used Mattresses     |153.99724039428568|\n",
      "|Signage Requied for Sale of Used Mattr|151.63868055333333|\n",
      "|Storage of Used Mattress              |142.11255641500003|\n",
      "|Zoning: Recycle Yard                  |135.92851612479797|\n",
      "|Donation Container Enforcement        |131.75610506358706|\n",
      "|License Requied Used Mattress Sales   |128.79828704142858|\n",
      "|Traffic Signal Graffiti               |101.79846062200002|\n",
      "|Complaint                             |72.8705023031169  |\n",
      "+--------------------------------------+------------------+\n",
      "only showing top 10 rows\n",
      "\n"
     ]
    },
    {
     "name": "stderr",
     "output_type": "stream",
     "text": [
      "                                                                                \r"
     ]
    }
   ],
   "source": [
    "(df.groupby('service_request_type')\n",
    "      .agg(mean('num_days_late'))\n",
    "      .sort(col('avg(num_days_late)').desc())\n",
    "      .show(10, truncate=False))"
   ]
  },
  {
   "cell_type": "markdown",
   "id": "b4ff501c-d2d7-4faa-b43b-70e321076fac",
   "metadata": {},
   "source": [
    "**11. Does number of days late depend on department?**"
   ]
  },
  {
   "cell_type": "code",
   "execution_count": 43,
   "id": "3a40b2fe-8483-461d-9824-3940cb54d88e",
   "metadata": {},
   "outputs": [
    {
     "name": "stderr",
     "output_type": "stream",
     "text": [
      "[Stage 59:>                                                         (0 + 8) / 8]\r"
     ]
    },
    {
     "name": "stdout",
     "output_type": "stream",
     "text": [
      "+--------------------+-------------------+\n",
      "|          department| avg(num_days_late)|\n",
      "+--------------------+-------------------+\n",
      "|    Customer Service|  59.73709149630077|\n",
      "|         Solid Waste| -2.200057513672164|\n",
      "|        Metro Health| -4.911766979607004|\n",
      "|  Parks & Recreation| -5.251521960055145|\n",
      "|Trans & Cap Impro...|-20.612837354052708|\n",
      "|DSD/Code Enforcement| -38.36938892614506|\n",
      "|Animal Care Services|-226.51783940550334|\n",
      "|        City Council|               null|\n",
      "+--------------------+-------------------+\n",
      "\n"
     ]
    },
    {
     "name": "stderr",
     "output_type": "stream",
     "text": [
      "                                                                                \r"
     ]
    }
   ],
   "source": [
    "(df.groupby('department')\n",
    "      .agg(mean('num_days_late'))\n",
    "      .sort(col('avg(num_days_late)').desc())\n",
    "      .show())"
   ]
  },
  {
   "cell_type": "markdown",
   "id": "c803801b-0d65-4259-8abb-6ed56fe8399e",
   "metadata": {},
   "source": [
    "**12. How do number of days late depend on department and request type?**"
   ]
  },
  {
   "cell_type": "code",
   "execution_count": 44,
   "id": "64aa2077-0dd1-4158-bf38-99db6fe3bdb9",
   "metadata": {},
   "outputs": [
    {
     "name": "stderr",
     "output_type": "stream",
     "text": [
      "[Stage 64:>                                                         (0 + 8) / 8]\r"
     ]
    },
    {
     "name": "stdout",
     "output_type": "stream",
     "text": [
      "+--------------------+--------------------------------------+--------------------+\n",
      "|department          |service_request_type                  |avg(num_days_late)  |\n",
      "+--------------------+--------------------------------------+--------------------+\n",
      "|Animal Care Services|Aggressive Animal(Critical)           |16.69636881189224   |\n",
      "|Animal Care Services|Aggressive Animal(Non-Critical)       |2.645033883163268   |\n",
      "|Animal Care Services|Animal Bite(Critical)                 |0.019096834813110173|\n",
      "|Animal Care Services|Animal Bite(Non-Critical)             |-2.505667547973447  |\n",
      "|Animal Care Services|Animal Cruelty(Critical)              |-0.06219277353522766|\n",
      "|Animal Care Services|Animal Neglect                        |7.332927878069383   |\n",
      "|Animal Care Services|Animal Permits Request                |22.19792271447681   |\n",
      "|Animal Care Services|City Council Animal Request           |-1.5475013634821913 |\n",
      "|Animal Care Services|Injured Animal(Critical)              |-0.06529248474639532|\n",
      "|Animal Care Services|Officer Standby                       |-0.06756953501177047|\n",
      "|Animal Care Services|Public Nuisance(Own Animal)           |-2.204561124319811  |\n",
      "|Animal Care Services|Spay/Neuter Request Response          |-6.976550926        |\n",
      "|Animal Care Services|Stray Animal                          |-998.8064665118969  |\n",
      "|Animal Care Services|Trapped/Confined Animal               |0.2490480196887205  |\n",
      "|City Council        |CCO_Request for Research/Information_1|null                |\n",
      "|City Council        |Request for Research/Information      |null                |\n",
      "|Customer Service    |Complaint                             |72.8705023031169    |\n",
      "|Customer Service    |Compliment                            |-8.030188146545843  |\n",
      "|DSD/Code Enforcement|\"Vacant Lot-City (12\"\")\"              |-45.218779679391076 |\n",
      "|DSD/Code Enforcement|\"Vacant Lot-City (48\"\")\"              |-42.632767744083644 |\n",
      "+--------------------+--------------------------------------+--------------------+\n",
      "only showing top 20 rows\n",
      "\n"
     ]
    },
    {
     "name": "stderr",
     "output_type": "stream",
     "text": [
      "                                                                                \r"
     ]
    }
   ],
   "source": [
    "(df.groupby('department', 'service_request_type')\n",
    "      .agg(mean('num_days_late'))\n",
    "      .sort('department', 'service_request_type')\n",
    "      .show(truncate=False))\n"
   ]
  }
 ],
 "metadata": {
  "kernelspec": {
   "display_name": "Python 3.9.7 64-bit ('base': conda)",
   "language": "python",
   "name": "python397jvsc74a57bd038cca0c38332a56087b24af0bc80247f4fced29cb4f7f437d91dc159adec9c4e"
  },
  "language_info": {
   "codemirror_mode": {
    "name": "ipython",
    "version": 3
   },
   "file_extension": ".py",
   "mimetype": "text/x-python",
   "name": "python",
   "nbconvert_exporter": "python",
   "pygments_lexer": "ipython3",
   "version": "3.9.7"
  }
 },
 "nbformat": 4,
 "nbformat_minor": 5
}
